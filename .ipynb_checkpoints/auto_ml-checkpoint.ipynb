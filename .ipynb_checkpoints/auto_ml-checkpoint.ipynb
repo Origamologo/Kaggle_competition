{
 "cells": [
  {
   "cell_type": "code",
   "execution_count": 39,
   "metadata": {},
   "outputs": [],
   "source": [
    "import pandas as pd\n",
    "import autosklearn.regression"
   ]
  },
  {
   "cell_type": "code",
   "execution_count": 22,
   "metadata": {},
   "outputs": [],
   "source": [
    "df = pd.read_csv('data/train_enc_2.csv')"
   ]
  },
  {
   "cell_type": "code",
   "execution_count": 50,
   "metadata": {},
   "outputs": [],
   "source": [
    "test = pd.read_csv('data/test.csv') "
   ]
  },
  {
   "cell_type": "code",
   "execution_count": 47,
   "metadata": {},
   "outputs": [],
   "source": [
    "sub = pd.read_csv('data/test_enc.csv')"
   ]
  },
  {
   "cell_type": "code",
   "execution_count": 24,
   "metadata": {},
   "outputs": [],
   "source": [
    "df.drop('Unnamed: 0', axis=1, inplace=True)"
   ]
  },
  {
   "cell_type": "code",
   "execution_count": 25,
   "metadata": {},
   "outputs": [
    {
     "data": {
      "text/html": [
       "<div>\n",
       "<style scoped>\n",
       "    .dataframe tbody tr th:only-of-type {\n",
       "        vertical-align: middle;\n",
       "    }\n",
       "\n",
       "    .dataframe tbody tr th {\n",
       "        vertical-align: top;\n",
       "    }\n",
       "\n",
       "    .dataframe thead th {\n",
       "        text-align: right;\n",
       "    }\n",
       "</style>\n",
       "<table border=\"1\" class=\"dataframe\">\n",
       "  <thead>\n",
       "    <tr style=\"text-align: right;\">\n",
       "      <th></th>\n",
       "      <th>carat</th>\n",
       "      <th>cut</th>\n",
       "      <th>color</th>\n",
       "      <th>clarity</th>\n",
       "      <th>depth</th>\n",
       "      <th>table</th>\n",
       "      <th>price</th>\n",
       "    </tr>\n",
       "  </thead>\n",
       "  <tbody>\n",
       "    <tr>\n",
       "      <th>0</th>\n",
       "      <td>0.30</td>\n",
       "      <td>3</td>\n",
       "      <td>6</td>\n",
       "      <td>1</td>\n",
       "      <td>0.623981</td>\n",
       "      <td>58.0</td>\n",
       "      <td>6.353</td>\n",
       "    </tr>\n",
       "    <tr>\n",
       "      <th>1</th>\n",
       "      <td>1.01</td>\n",
       "      <td>4</td>\n",
       "      <td>5</td>\n",
       "      <td>5</td>\n",
       "      <td>0.627329</td>\n",
       "      <td>56.0</td>\n",
       "      <td>9.183</td>\n",
       "    </tr>\n",
       "    <tr>\n",
       "      <th>2</th>\n",
       "      <td>0.72</td>\n",
       "      <td>4</td>\n",
       "      <td>4</td>\n",
       "      <td>3</td>\n",
       "      <td>0.618341</td>\n",
       "      <td>59.0</td>\n",
       "      <td>7.983</td>\n",
       "    </tr>\n",
       "    <tr>\n",
       "      <th>3</th>\n",
       "      <td>1.08</td>\n",
       "      <td>2</td>\n",
       "      <td>3</td>\n",
       "      <td>1</td>\n",
       "      <td>0.631902</td>\n",
       "      <td>57.0</td>\n",
       "      <td>8.371</td>\n",
       "    </tr>\n",
       "    <tr>\n",
       "      <th>4</th>\n",
       "      <td>0.36</td>\n",
       "      <td>3</td>\n",
       "      <td>3</td>\n",
       "      <td>4</td>\n",
       "      <td>0.623204</td>\n",
       "      <td>59.0</td>\n",
       "      <td>6.588</td>\n",
       "    </tr>\n",
       "  </tbody>\n",
       "</table>\n",
       "</div>"
      ],
      "text/plain": [
       "   carat  cut  color  clarity     depth  table  price\n",
       "0   0.30    3      6        1  0.623981   58.0  6.353\n",
       "1   1.01    4      5        5  0.627329   56.0  9.183\n",
       "2   0.72    4      4        3  0.618341   59.0  7.983\n",
       "3   1.08    2      3        1  0.631902   57.0  8.371\n",
       "4   0.36    3      3        4  0.623204   59.0  6.588"
      ]
     },
     "execution_count": 25,
     "metadata": {},
     "output_type": "execute_result"
    }
   ],
   "source": [
    "df.head(5)"
   ]
  },
  {
   "cell_type": "code",
   "execution_count": 26,
   "metadata": {},
   "outputs": [],
   "source": [
    "X=df.drop(['price'],axis=1)\n",
    "y=df['price']"
   ]
  },
  {
   "cell_type": "code",
   "execution_count": 40,
   "metadata": {},
   "outputs": [],
   "source": [
    "automl = autosklearn.regression.AutoSklearnRegressor(metric=autosklearn.metrics.root_mean_squared_error,\n",
    "                                                         resampling_strategy='cv')"
   ]
  },
  {
   "cell_type": "code",
   "execution_count": 42,
   "metadata": {},
   "outputs": [
    {
     "name": "stderr",
     "output_type": "stream",
     "text": [
      "/home/mituc/.local/lib/python3.8/site-packages/autosklearn/metalearning/metalearning/meta_base.py:68: FutureWarning: The frame.append method is deprecated and will be removed from pandas in a future version. Use pandas.concat instead.\n",
      "  self.metafeatures = self.metafeatures.append(metafeatures)\n",
      "/home/mituc/.local/lib/python3.8/site-packages/autosklearn/metalearning/metalearning/meta_base.py:72: FutureWarning: The frame.append method is deprecated and will be removed from pandas in a future version. Use pandas.concat instead.\n",
      "  self.algorithm_runs[metric].append(runs)\n"
     ]
    },
    {
     "data": {
      "text/plain": [
       "AutoSklearnRegressor(metric=root_mean_squared_error, per_run_time_limit=360,\n",
       "                     resampling_strategy='cv')"
      ]
     },
     "execution_count": 42,
     "metadata": {},
     "output_type": "execute_result"
    }
   ],
   "source": [
    "automl.fit(X, y)"
   ]
  },
  {
   "cell_type": "code",
   "execution_count": 43,
   "metadata": {},
   "outputs": [
    {
     "name": "stdout",
     "output_type": "stream",
     "text": [
      "          rank  ensemble_weight               type      cost    duration\n",
      "model_id                                                                \n",
      "7            1             0.52  gradient_boosting  0.098112   19.596604\n",
      "10           2             0.12  gradient_boosting  0.100039   87.469383\n",
      "22           3             0.22  gradient_boosting  0.100137   27.827170\n",
      "16           4             0.02  gradient_boosting  0.101130   22.071579\n",
      "11           5             0.06           adaboost  0.109484   33.258423\n",
      "31           6             0.06           adaboost  0.110881  297.685735\n"
     ]
    }
   ],
   "source": [
    "print(automl.leaderboard())"
   ]
  },
  {
   "cell_type": "code",
   "execution_count": 46,
   "metadata": {},
   "outputs": [
    {
     "name": "stdout",
     "output_type": "stream",
     "text": [
      "{7: {'model_id': 7, 'rank': 1, 'cost': 0.09811230939089907, 'ensemble_weight': 0.52, 'voting_model': VotingRegressor(estimators=None), 'estimators': [{'data_preprocessor': <autosklearn.pipeline.components.data_preprocessing.DataPreprocessorChoice object at 0x7f4b31e933a0>, 'feature_preprocessor': <autosklearn.pipeline.components.feature_preprocessing.FeaturePreprocessorChoice object at 0x7f4b31c74850>, 'regressor': <autosklearn.pipeline.components.regression.RegressorChoice object at 0x7f4b31c74400>, 'sklearn_regressor': HistGradientBoostingRegressor(l2_regularization=2.208787572338781e-05,\n",
      "                              learning_rate=0.036087332404571744, max_iter=512,\n",
      "                              max_leaf_nodes=64, min_samples_leaf=3,\n",
      "                              n_iter_no_change=18, random_state=1,\n",
      "                              validation_fraction=None, warm_start=True)}, {'data_preprocessor': <autosklearn.pipeline.components.data_preprocessing.DataPreprocessorChoice object at 0x7f4b0d45bdc0>, 'feature_preprocessor': <autosklearn.pipeline.components.feature_preprocessing.FeaturePreprocessorChoice object at 0x7f4b0d42db20>, 'regressor': <autosklearn.pipeline.components.regression.RegressorChoice object at 0x7f4b0d42dbe0>, 'sklearn_regressor': HistGradientBoostingRegressor(l2_regularization=2.208787572338781e-05,\n",
      "                              learning_rate=0.036087332404571744, max_iter=512,\n",
      "                              max_leaf_nodes=64, min_samples_leaf=3,\n",
      "                              n_iter_no_change=18, random_state=1,\n",
      "                              validation_fraction=None, warm_start=True)}, {'data_preprocessor': <autosklearn.pipeline.components.data_preprocessing.DataPreprocessorChoice object at 0x7f4b0d2cd220>, 'feature_preprocessor': <autosklearn.pipeline.components.feature_preprocessing.FeaturePreprocessorChoice object at 0x7f4b0d263f10>, 'regressor': <autosklearn.pipeline.components.regression.RegressorChoice object at 0x7f4b0d263fd0>, 'sklearn_regressor': HistGradientBoostingRegressor(l2_regularization=2.208787572338781e-05,\n",
      "                              learning_rate=0.036087332404571744, max_iter=512,\n",
      "                              max_leaf_nodes=64, min_samples_leaf=3,\n",
      "                              n_iter_no_change=18, random_state=1,\n",
      "                              validation_fraction=None, warm_start=True)}, {'data_preprocessor': <autosklearn.pipeline.components.data_preprocessing.DataPreprocessorChoice object at 0x7f4b0d0e5610>, 'feature_preprocessor': <autosklearn.pipeline.components.feature_preprocessing.FeaturePreprocessorChoice object at 0x7f4b0d0b5340>, 'regressor': <autosklearn.pipeline.components.regression.RegressorChoice object at 0x7f4b0d0b5400>, 'sklearn_regressor': HistGradientBoostingRegressor(l2_regularization=2.208787572338781e-05,\n",
      "                              learning_rate=0.036087332404571744, max_iter=512,\n",
      "                              max_leaf_nodes=64, min_samples_leaf=3,\n",
      "                              n_iter_no_change=18, random_state=1,\n",
      "                              validation_fraction=None, warm_start=True)}, {'data_preprocessor': <autosklearn.pipeline.components.data_preprocessing.DataPreprocessorChoice object at 0x7f4b0cf17a00>, 'feature_preprocessor': <autosklearn.pipeline.components.feature_preprocessing.FeaturePreprocessorChoice object at 0x7f4b0cee9730>, 'regressor': <autosklearn.pipeline.components.regression.RegressorChoice object at 0x7f4b0cee97f0>, 'sklearn_regressor': HistGradientBoostingRegressor(l2_regularization=2.208787572338781e-05,\n",
      "                              learning_rate=0.036087332404571744, max_iter=512,\n",
      "                              max_leaf_nodes=64, min_samples_leaf=3,\n",
      "                              n_iter_no_change=18, random_state=1,\n",
      "                              validation_fraction=None, warm_start=True)}]}, 10: {'model_id': 10, 'rank': 2, 'cost': 0.10003857901731115, 'ensemble_weight': 0.12, 'voting_model': VotingRegressor(estimators=None), 'estimators': [{'data_preprocessor': <autosklearn.pipeline.components.data_preprocessing.DataPreprocessorChoice object at 0x7f4b31eaa7f0>, 'feature_preprocessor': <autosklearn.pipeline.components.feature_preprocessing.FeaturePreprocessorChoice object at 0x7f4b30a0b370>, 'regressor': <autosklearn.pipeline.components.regression.RegressorChoice object at 0x7f4b30a0b5b0>, 'sklearn_regressor': HistGradientBoostingRegressor(l2_regularization=6.238367840293606e-10,\n",
      "                              learning_rate=0.026111542610815466, max_iter=512,\n",
      "                              max_leaf_nodes=177, min_samples_leaf=37,\n",
      "                              n_iter_no_change=18, random_state=1,\n",
      "                              validation_fraction=None, warm_start=True)}, {'data_preprocessor': <autosklearn.pipeline.components.data_preprocessing.DataPreprocessorChoice object at 0x7f4b0d13a640>, 'feature_preprocessor': <autosklearn.pipeline.components.feature_preprocessing.FeaturePreprocessorChoice object at 0x7f4b0cf9ac70>, 'regressor': <autosklearn.pipeline.components.regression.RegressorChoice object at 0x7f4b0cf9ad30>, 'sklearn_regressor': HistGradientBoostingRegressor(l2_regularization=6.238367840293606e-10,\n",
      "                              learning_rate=0.026111542610815466, max_iter=512,\n",
      "                              max_leaf_nodes=177, min_samples_leaf=37,\n",
      "                              n_iter_no_change=18, random_state=1,\n",
      "                              validation_fraction=None, warm_start=True)}, {'data_preprocessor': <autosklearn.pipeline.components.data_preprocessing.DataPreprocessorChoice object at 0x7f4b0cc4d6d0>, 'feature_preprocessor': <autosklearn.pipeline.components.feature_preprocessing.FeaturePreprocessorChoice object at 0x7f4b0cc02fa0>, 'regressor': <autosklearn.pipeline.components.regression.RegressorChoice object at 0x7f4b0cba30a0>, 'sklearn_regressor': HistGradientBoostingRegressor(l2_regularization=6.238367840293606e-10,\n",
      "                              learning_rate=0.026111542610815466, max_iter=512,\n",
      "                              max_leaf_nodes=177, min_samples_leaf=37,\n",
      "                              n_iter_no_change=18, random_state=1,\n",
      "                              validation_fraction=None, warm_start=True)}, {'data_preprocessor': <autosklearn.pipeline.components.data_preprocessing.DataPreprocessorChoice object at 0x7f4b0ca19250>, 'feature_preprocessor': <autosklearn.pipeline.components.feature_preprocessing.FeaturePreprocessorChoice object at 0x7f4b0ca32af0>, 'regressor': <autosklearn.pipeline.components.regression.RegressorChoice object at 0x7f4b0ca32be0>, 'sklearn_regressor': HistGradientBoostingRegressor(l2_regularization=6.238367840293606e-10,\n",
      "                              learning_rate=0.026111542610815466, max_iter=512,\n",
      "                              max_leaf_nodes=177, min_samples_leaf=37,\n",
      "                              n_iter_no_change=18, random_state=1,\n",
      "                              validation_fraction=None, warm_start=True)}, {'data_preprocessor': <autosklearn.pipeline.components.data_preprocessing.DataPreprocessorChoice object at 0x7f4b0c8cc0a0>, 'feature_preprocessor': <autosklearn.pipeline.components.feature_preprocessing.FeaturePreprocessorChoice object at 0x7f4b0c85cd90>, 'regressor': <autosklearn.pipeline.components.regression.RegressorChoice object at 0x7f4b0c85ce50>, 'sklearn_regressor': HistGradientBoostingRegressor(l2_regularization=6.238367840293606e-10,\n",
      "                              learning_rate=0.026111542610815466, max_iter=512,\n",
      "                              max_leaf_nodes=177, min_samples_leaf=37,\n",
      "                              n_iter_no_change=18, random_state=1,\n",
      "                              validation_fraction=None, warm_start=True)}]}, 22: {'model_id': 22, 'rank': 3, 'cost': 0.10013659450569523, 'ensemble_weight': 0.22, 'voting_model': VotingRegressor(estimators=None), 'estimators': [{'data_preprocessor': <autosklearn.pipeline.components.data_preprocessing.DataPreprocessorChoice object at 0x7f4b31c9b610>, 'feature_preprocessor': <autosklearn.pipeline.components.feature_preprocessing.FeaturePreprocessorChoice object at 0x7f4b0d3ae7c0>, 'regressor': <autosklearn.pipeline.components.regression.RegressorChoice object at 0x7f4b0d3aeb20>, 'sklearn_regressor': HistGradientBoostingRegressor(l2_regularization=6.085630700044881e-10,\n",
      "                              learning_rate=0.12392806728650493, max_iter=512,\n",
      "                              min_samples_leaf=25, n_iter_no_change=7,\n",
      "                              random_state=1, validation_fraction=None,\n",
      "                              warm_start=True)}, {'data_preprocessor': <autosklearn.pipeline.components.data_preprocessing.DataPreprocessorChoice object at 0x7f4b0cb07a90>, 'feature_preprocessor': <autosklearn.pipeline.components.feature_preprocessing.FeaturePreprocessorChoice object at 0x7f4b0cab18e0>, 'regressor': <autosklearn.pipeline.components.regression.RegressorChoice object at 0x7f4b0cab1a00>, 'sklearn_regressor': HistGradientBoostingRegressor(l2_regularization=6.085630700044881e-10,\n",
      "                              learning_rate=0.12392806728650493, max_iter=512,\n",
      "                              min_samples_leaf=25, n_iter_no_change=7,\n",
      "                              random_state=1, validation_fraction=None,\n",
      "                              warm_start=True)}, {'data_preprocessor': <autosklearn.pipeline.components.data_preprocessing.DataPreprocessorChoice object at 0x7f4b0c5bb340>, 'feature_preprocessor': <autosklearn.pipeline.components.feature_preprocessing.FeaturePreprocessorChoice object at 0x7f4b0c554b80>, 'regressor': <autosklearn.pipeline.components.regression.RegressorChoice object at 0x7f4b0c554ca0>, 'sklearn_regressor': HistGradientBoostingRegressor(l2_regularization=6.085630700044881e-10,\n",
      "                              learning_rate=0.12392806728650493, max_iter=512,\n",
      "                              min_samples_leaf=25, n_iter_no_change=7,\n",
      "                              random_state=1, validation_fraction=None,\n",
      "                              warm_start=True)}, {'data_preprocessor': <autosklearn.pipeline.components.data_preprocessing.DataPreprocessorChoice object at 0x7f4b0c42be50>, 'feature_preprocessor': <autosklearn.pipeline.components.feature_preprocessing.FeaturePreprocessorChoice object at 0x7f4b0c401670>, 'regressor': <autosklearn.pipeline.components.regression.RegressorChoice object at 0x7f4b0c4017f0>, 'sklearn_regressor': HistGradientBoostingRegressor(l2_regularization=6.085630700044881e-10,\n",
      "                              learning_rate=0.12392806728650493, max_iter=512,\n",
      "                              min_samples_leaf=25, n_iter_no_change=7,\n",
      "                              random_state=1, validation_fraction=None,\n",
      "                              warm_start=True)}, {'data_preprocessor': <autosklearn.pipeline.components.data_preprocessing.DataPreprocessorChoice object at 0x7f4b0c258bb0>, 'feature_preprocessor': <autosklearn.pipeline.components.feature_preprocessing.FeaturePreprocessorChoice object at 0x7f4b0c2277f0>, 'regressor': <autosklearn.pipeline.components.regression.RegressorChoice object at 0x7f4b0c227910>, 'sklearn_regressor': HistGradientBoostingRegressor(l2_regularization=6.085630700044881e-10,\n",
      "                              learning_rate=0.12392806728650493, max_iter=512,\n",
      "                              min_samples_leaf=25, n_iter_no_change=7,\n",
      "                              random_state=1, validation_fraction=None,\n",
      "                              warm_start=True)}]}, 16: {'model_id': 16, 'rank': 4, 'cost': 0.10112963738129883, 'ensemble_weight': 0.02, 'voting_model': VotingRegressor(estimators=None), 'estimators': [{'data_preprocessor': <autosklearn.pipeline.components.data_preprocessing.DataPreprocessorChoice object at 0x7f4b309f5520>, 'feature_preprocessor': <autosklearn.pipeline.components.feature_preprocessing.FeaturePreprocessorChoice object at 0x7f4b0d05ca00>, 'regressor': <autosklearn.pipeline.components.regression.RegressorChoice object at 0x7f4b0d05ccd0>, 'sklearn_regressor': HistGradientBoostingRegressor(l2_regularization=6.536723381440492e-05,\n",
      "                              learning_rate=0.03940103065495631, max_iter=512,\n",
      "                              max_leaf_nodes=77, min_samples_leaf=9,\n",
      "                              n_iter_no_change=7, random_state=1,\n",
      "                              validation_fraction=None, warm_start=True)}, {'data_preprocessor': <autosklearn.pipeline.components.data_preprocessing.DataPreprocessorChoice object at 0x7f4b0c4507c0>, 'feature_preprocessor': <autosklearn.pipeline.components.feature_preprocessing.FeaturePreprocessorChoice object at 0x7f4b0c4816d0>, 'regressor': <autosklearn.pipeline.components.regression.RegressorChoice object at 0x7f4b0c4817c0>, 'sklearn_regressor': HistGradientBoostingRegressor(l2_regularization=6.536723381440492e-05,\n",
      "                              learning_rate=0.03940103065495631, max_iter=512,\n",
      "                              max_leaf_nodes=77, min_samples_leaf=9,\n",
      "                              n_iter_no_change=7, random_state=1,\n",
      "                              validation_fraction=None, warm_start=True)}, {'data_preprocessor': <autosklearn.pipeline.components.data_preprocessing.DataPreprocessorChoice object at 0x7f4b0bf59ee0>, 'feature_preprocessor': <autosklearn.pipeline.components.feature_preprocessing.FeaturePreprocessorChoice object at 0x7f4b0bf2c7c0>, 'regressor': <autosklearn.pipeline.components.regression.RegressorChoice object at 0x7f4b0bf2c8b0>, 'sklearn_regressor': HistGradientBoostingRegressor(l2_regularization=6.536723381440492e-05,\n",
      "                              learning_rate=0.03940103065495631, max_iter=512,\n",
      "                              max_leaf_nodes=77, min_samples_leaf=9,\n",
      "                              n_iter_no_change=7, random_state=1,\n",
      "                              validation_fraction=None, warm_start=True)}, {'data_preprocessor': <autosklearn.pipeline.components.data_preprocessing.DataPreprocessorChoice object at 0x7f4b0bdffa30>, 'feature_preprocessor': <autosklearn.pipeline.components.feature_preprocessing.FeaturePreprocessorChoice object at 0x7f4b0bd58310>, 'regressor': <autosklearn.pipeline.components.regression.RegressorChoice object at 0x7f4b0bd58400>, 'sklearn_regressor': HistGradientBoostingRegressor(l2_regularization=6.536723381440492e-05,\n",
      "                              learning_rate=0.03940103065495631, max_iter=512,\n",
      "                              max_leaf_nodes=77, min_samples_leaf=9,\n",
      "                              n_iter_no_change=7, random_state=1,\n",
      "                              validation_fraction=None, warm_start=True)}, {'data_preprocessor': <autosklearn.pipeline.components.data_preprocessing.DataPreprocessorChoice object at 0x7f4b0bc1fd90>, 'feature_preprocessor': <autosklearn.pipeline.components.feature_preprocessing.FeaturePreprocessorChoice object at 0x7f4b0bbeda60>, 'regressor': <autosklearn.pipeline.components.regression.RegressorChoice object at 0x7f4b0bbedbb0>, 'sklearn_regressor': HistGradientBoostingRegressor(l2_regularization=6.536723381440492e-05,\n",
      "                              learning_rate=0.03940103065495631, max_iter=512,\n",
      "                              max_leaf_nodes=77, min_samples_leaf=9,\n",
      "                              n_iter_no_change=7, random_state=1,\n",
      "                              validation_fraction=None, warm_start=True)}]}, 11: {'model_id': 11, 'rank': 5, 'cost': 0.1094837055900856, 'ensemble_weight': 0.06, 'voting_model': VotingRegressor(estimators=None), 'estimators': [{'data_preprocessor': <autosklearn.pipeline.components.data_preprocessing.DataPreprocessorChoice object at 0x7f4b0d398bb0>, 'feature_preprocessor': <autosklearn.pipeline.components.feature_preprocessing.FeaturePreprocessorChoice object at 0x7f4b0ce3b8e0>, 'regressor': <autosklearn.pipeline.components.regression.RegressorChoice object at 0x7f4b0ce3ba90>, 'sklearn_regressor': AdaBoostRegressor(base_estimator=DecisionTreeRegressor(max_depth=10),\n",
      "                  learning_rate=0.010571278032840276, n_estimators=116,\n",
      "                  random_state=1)}, {'data_preprocessor': <autosklearn.pipeline.components.data_preprocessing.DataPreprocessorChoice object at 0x7f4b0c606eb0>, 'feature_preprocessor': <autosklearn.pipeline.components.feature_preprocessing.FeaturePreprocessorChoice object at 0x7f4b0c874850>, 'regressor': <autosklearn.pipeline.components.regression.RegressorChoice object at 0x7f4b0c874a30>, 'sklearn_regressor': AdaBoostRegressor(base_estimator=DecisionTreeRegressor(max_depth=10),\n",
      "                  learning_rate=0.010571278032840276, n_estimators=116,\n",
      "                  random_state=1)}, {'data_preprocessor': <autosklearn.pipeline.components.data_preprocessing.DataPreprocessorChoice object at 0x7f4b0bf2c940>, 'feature_preprocessor': <autosklearn.pipeline.components.feature_preprocessing.FeaturePreprocessorChoice object at 0x7f4b0be21d00>, 'regressor': <autosklearn.pipeline.components.regression.RegressorChoice object at 0x7f4b0be21d90>, 'sklearn_regressor': AdaBoostRegressor(base_estimator=DecisionTreeRegressor(max_depth=10),\n",
      "                  learning_rate=0.010571278032840276, n_estimators=116,\n",
      "                  random_state=1)}, {'data_preprocessor': <autosklearn.pipeline.components.data_preprocessing.DataPreprocessorChoice object at 0x7f4b0bad6760>, 'feature_preprocessor': <autosklearn.pipeline.components.feature_preprocessing.FeaturePreprocessorChoice object at 0x7f4b0baf04f0>, 'regressor': <autosklearn.pipeline.components.regression.RegressorChoice object at 0x7f4b0baf0580>, 'sklearn_regressor': AdaBoostRegressor(base_estimator=DecisionTreeRegressor(max_depth=10),\n",
      "                  learning_rate=0.010571278032840276, n_estimators=116,\n",
      "                  random_state=1)}, {'data_preprocessor': <autosklearn.pipeline.components.data_preprocessing.DataPreprocessorChoice object at 0x7f4af55b4820>, 'feature_preprocessor': <autosklearn.pipeline.components.feature_preprocessing.FeaturePreprocessorChoice object at 0x7f4af5589100>, 'regressor': <autosklearn.pipeline.components.regression.RegressorChoice object at 0x7f4af5589190>, 'sklearn_regressor': AdaBoostRegressor(base_estimator=DecisionTreeRegressor(max_depth=10),\n",
      "                  learning_rate=0.010571278032840276, n_estimators=116,\n",
      "                  random_state=1)}]}, 31: {'model_id': 31, 'rank': 6, 'cost': 0.11088122262636892, 'ensemble_weight': 0.06, 'voting_model': VotingRegressor(estimators=None), 'estimators': [{'data_preprocessor': <autosklearn.pipeline.components.data_preprocessing.DataPreprocessorChoice object at 0x7f4b0d0c5c40>, 'feature_preprocessor': <autosklearn.pipeline.components.feature_preprocessing.FeaturePreprocessorChoice object at 0x7f4b0c96cb50>, 'regressor': <autosklearn.pipeline.components.regression.RegressorChoice object at 0x7f4b0c9770a0>, 'sklearn_regressor': AdaBoostRegressor(base_estimator=DecisionTreeRegressor(max_depth=8),\n",
      "                  learning_rate=1.777136992136014, loss='square',\n",
      "                  n_estimators=344, random_state=1)}, {'data_preprocessor': <autosklearn.pipeline.components.data_preprocessing.DataPreprocessorChoice object at 0x7f4b0baba670>, 'feature_preprocessor': <autosklearn.pipeline.components.feature_preprocessing.FeaturePreprocessorChoice object at 0x7f4af5653c40>, 'regressor': <autosklearn.pipeline.components.regression.RegressorChoice object at 0x7f4af5653d60>, 'sklearn_regressor': AdaBoostRegressor(base_estimator=DecisionTreeRegressor(max_depth=8),\n",
      "                  learning_rate=1.777136992136014, loss='square',\n",
      "                  n_estimators=344, random_state=1)}, {'data_preprocessor': <autosklearn.pipeline.components.data_preprocessing.DataPreprocessorChoice object at 0x7f4b0bb9b5b0>, 'feature_preprocessor': <autosklearn.pipeline.components.feature_preprocessing.FeaturePreprocessorChoice object at 0x7f4af556f8b0>, 'regressor': <autosklearn.pipeline.components.regression.RegressorChoice object at 0x7f4af556f9d0>, 'sklearn_regressor': AdaBoostRegressor(base_estimator=DecisionTreeRegressor(max_depth=8),\n",
      "                  learning_rate=1.777136992136014, loss='square',\n",
      "                  n_estimators=344, random_state=1)}, {'data_preprocessor': <autosklearn.pipeline.components.data_preprocessing.DataPreprocessorChoice object at 0x7f4af51bb7c0>, 'feature_preprocessor': <autosklearn.pipeline.components.feature_preprocessing.FeaturePreprocessorChoice object at 0x7f4af51855b0>, 'regressor': <autosklearn.pipeline.components.regression.RegressorChoice object at 0x7f4af51856d0>, 'sklearn_regressor': AdaBoostRegressor(base_estimator=DecisionTreeRegressor(max_depth=8),\n",
      "                  learning_rate=1.777136992136014, loss='square',\n",
      "                  n_estimators=344, random_state=1)}, {'data_preprocessor': <autosklearn.pipeline.components.data_preprocessing.DataPreprocessorChoice object at 0x7f4af5048a60>, 'feature_preprocessor': <autosklearn.pipeline.components.feature_preprocessing.FeaturePreprocessorChoice object at 0x7f4af5015850>, 'regressor': <autosklearn.pipeline.components.regression.RegressorChoice object at 0x7f4af5015970>, 'sklearn_regressor': AdaBoostRegressor(base_estimator=DecisionTreeRegressor(max_depth=8),\n",
      "                  learning_rate=1.777136992136014, loss='square',\n",
      "                  n_estimators=344, random_state=1)}]}}\n"
     ]
    }
   ],
   "source": [
    "print(automl.show_models())"
   ]
  },
  {
   "cell_type": "code",
   "execution_count": 48,
   "metadata": {},
   "outputs": [],
   "source": [
    "predictions = automl.predict(sub)"
   ]
  },
  {
   "cell_type": "code",
   "execution_count": 49,
   "metadata": {},
   "outputs": [
    {
     "data": {
      "text/plain": [
       "array([6.12420888, 8.57683237, 9.47458994, ..., 6.45572568, 8.67942876,\n",
       "       8.00865722])"
      ]
     },
     "execution_count": 49,
     "metadata": {},
     "output_type": "execute_result"
    }
   ],
   "source": [
    "predictions"
   ]
  },
  {
   "cell_type": "code",
   "execution_count": 51,
   "metadata": {},
   "outputs": [],
   "source": [
    "test['price'] = predictions"
   ]
  },
  {
   "cell_type": "code",
   "execution_count": 53,
   "metadata": {},
   "outputs": [
    {
     "data": {
      "text/plain": [
       "Index(['id', 'carat', 'cut', 'color', 'clarity', 'depth', 'table', 'x', 'y',\n",
       "       'z', 'price'],\n",
       "      dtype='object')"
      ]
     },
     "execution_count": 53,
     "metadata": {},
     "output_type": "execute_result"
    }
   ],
   "source": [
    "test.columns"
   ]
  },
  {
   "cell_type": "code",
   "execution_count": 54,
   "metadata": {},
   "outputs": [],
   "source": [
    "test.drop(['carat', 'cut', 'color', 'clarity', 'depth', 'table', 'x', 'y',\n",
    "       'z'], axis=1, inplace=True)"
   ]
  },
  {
   "cell_type": "code",
   "execution_count": null,
   "metadata": {},
   "outputs": [],
   "source": []
  }
 ],
 "metadata": {
  "interpreter": {
   "hash": "a12e2a4323b2f78fc80bc9af7b1a03df0527f4eb569d45f0586a1ac4c8c01671"
  },
  "kernelspec": {
   "display_name": "Python 3 (ipykernel)",
   "language": "python",
   "name": "python3"
  },
  "language_info": {
   "codemirror_mode": {
    "name": "ipython",
    "version": 3
   },
   "file_extension": ".py",
   "mimetype": "text/x-python",
   "name": "python",
   "nbconvert_exporter": "python",
   "pygments_lexer": "ipython3",
   "version": "3.8.10"
  }
 },
 "nbformat": 4,
 "nbformat_minor": 2
}
