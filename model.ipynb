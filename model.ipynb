{
 "cells": [
  {
   "cell_type": "code",
   "execution_count": 3,
   "metadata": {},
   "outputs": [],
   "source": [
    "import pandas as pd\n",
    "import numpy as np\n",
    "\n",
    "from sklearn.model_selection import train_test_split\n",
    "from sklearn.linear_model import LinearRegression\n",
    "from sklearn.tree import DecisionTreeRegressor\n",
    "from sklearn.tree import plot_tree\n",
    "from sklearn.neighbors import KNeighborsRegressor\n",
    "from sklearn.model_selection import GridSearchCV\n",
    "from sklearn.ensemble import RandomForestRegressor\n",
    "from sklearn.ensemble import GradientBoostingRegressor\n",
    "from sklearn.model_selection import cross_val_score\n",
    "from sklearn.metrics import mean_squared_log_error, mean_squared_error, r2_score, mean_absolute_error\n",
    "from sklearn.model_selection import cross_val_score\n",
    "\n",
    "from sklearn.model_selection import cross_validate\n",
    "from sklearn.metrics import make_scorer\n",
    "from sklearn.pipeline import Pipeline\n",
    "\n",
    "import warnings\n",
    "warnings.filterwarnings('ignore')"
   ]
  },
  {
   "cell_type": "code",
   "execution_count": 6,
   "metadata": {},
   "outputs": [],
   "source": [
    "df = pd.read_csv('data/train_enc.csv')"
   ]
  },
  {
   "cell_type": "code",
   "execution_count": 7,
   "metadata": {},
   "outputs": [
    {
     "data": {
      "text/html": [
       "<div>\n",
       "<style scoped>\n",
       "    .dataframe tbody tr th:only-of-type {\n",
       "        vertical-align: middle;\n",
       "    }\n",
       "\n",
       "    .dataframe tbody tr th {\n",
       "        vertical-align: top;\n",
       "    }\n",
       "\n",
       "    .dataframe thead th {\n",
       "        text-align: right;\n",
       "    }\n",
       "</style>\n",
       "<table border=\"1\" class=\"dataframe\">\n",
       "  <thead>\n",
       "    <tr style=\"text-align: right;\">\n",
       "      <th></th>\n",
       "      <th>carat</th>\n",
       "      <th>cut</th>\n",
       "      <th>color</th>\n",
       "      <th>clarity</th>\n",
       "      <th>depth</th>\n",
       "      <th>table</th>\n",
       "      <th>price</th>\n",
       "    </tr>\n",
       "  </thead>\n",
       "  <tbody>\n",
       "    <tr>\n",
       "      <th>0</th>\n",
       "      <td>0.30</td>\n",
       "      <td>3</td>\n",
       "      <td>6</td>\n",
       "      <td>1</td>\n",
       "      <td>0.623981</td>\n",
       "      <td>58.0</td>\n",
       "      <td>6.353</td>\n",
       "    </tr>\n",
       "    <tr>\n",
       "      <th>1</th>\n",
       "      <td>1.01</td>\n",
       "      <td>4</td>\n",
       "      <td>5</td>\n",
       "      <td>5</td>\n",
       "      <td>0.627329</td>\n",
       "      <td>56.0</td>\n",
       "      <td>9.183</td>\n",
       "    </tr>\n",
       "    <tr>\n",
       "      <th>2</th>\n",
       "      <td>0.72</td>\n",
       "      <td>4</td>\n",
       "      <td>4</td>\n",
       "      <td>3</td>\n",
       "      <td>0.618341</td>\n",
       "      <td>59.0</td>\n",
       "      <td>7.983</td>\n",
       "    </tr>\n",
       "    <tr>\n",
       "      <th>3</th>\n",
       "      <td>1.08</td>\n",
       "      <td>2</td>\n",
       "      <td>3</td>\n",
       "      <td>1</td>\n",
       "      <td>0.631902</td>\n",
       "      <td>57.0</td>\n",
       "      <td>8.371</td>\n",
       "    </tr>\n",
       "    <tr>\n",
       "      <th>4</th>\n",
       "      <td>0.36</td>\n",
       "      <td>3</td>\n",
       "      <td>3</td>\n",
       "      <td>4</td>\n",
       "      <td>0.623204</td>\n",
       "      <td>59.0</td>\n",
       "      <td>6.588</td>\n",
       "    </tr>\n",
       "  </tbody>\n",
       "</table>\n",
       "</div>"
      ],
      "text/plain": [
       "   carat  cut  color  clarity     depth  table  price\n",
       "0   0.30    3      6        1  0.623981   58.0  6.353\n",
       "1   1.01    4      5        5  0.627329   56.0  9.183\n",
       "2   0.72    4      4        3  0.618341   59.0  7.983\n",
       "3   1.08    2      3        1  0.631902   57.0  8.371\n",
       "4   0.36    3      3        4  0.623204   59.0  6.588"
      ]
     },
     "execution_count": 7,
     "metadata": {},
     "output_type": "execute_result"
    }
   ],
   "source": [
    "df.head(5)"
   ]
  },
  {
   "cell_type": "code",
   "execution_count": 8,
   "metadata": {},
   "outputs": [],
   "source": [
    "y = df[\"price\"]\n",
    "X = df.drop(columns=[\"price\"])"
   ]
  },
  {
   "cell_type": "code",
   "execution_count": 9,
   "metadata": {},
   "outputs": [],
   "source": [
    "pipe = Pipeline(steps=[('estimator', LinearRegression())])"
   ]
  },
  {
   "cell_type": "code",
   "execution_count": 10,
   "metadata": {},
   "outputs": [],
   "source": [
    "params_grid = [{\n",
    "                'estimator':[LinearRegression()],\n",
    "                },\n",
    "                {\n",
    "                'estimator': [DecisionTreeRegressor()],\n",
    "                'estimator__max_depth': [1,2,3,4,5],\n",
    "                'estimator__max_features': [\"sqrt\", \"log2\"],\n",
    "                'estimator__min_samples_split': [10, 50, 100], \n",
    "                'estimator__min_samples_leaf':[1,2,3],\n",
    "                },\n",
    "                {'estimator':[RandomForestRegressor()],\n",
    "                 'estimator__n_estimators':[50,100,200,300],\n",
    "                 'estimator__max_depth':[1,2,3,4,5], \n",
    "                 'estimator__min_samples_split':[2,3], \n",
    "                 'estimator__min_samples_leaf':[1,2,3],\n",
    "                },\n",
    "                {'estimator':[KNeighborsRegressor()],\n",
    "                 'estimator__n_neighbors':[3,5,6,7],\n",
    "                }\n",
    "\n",
    "              ]"
   ]
  },
  {
   "cell_type": "code",
   "execution_count": 15,
   "metadata": {},
   "outputs": [],
   "source": [
    "grid = GridSearchCV(pipe, params_grid, n_jobs= -1, verbose = 4)"
   ]
  },
  {
   "cell_type": "code",
   "execution_count": 16,
   "metadata": {},
   "outputs": [
    {
     "name": "stdout",
     "output_type": "stream",
     "text": [
      "Fitting 5 folds for each of 215 candidates, totalling 1075 fits\n",
      "Wall time: 4min 21s\n"
     ]
    }
   ],
   "source": [
    "%%time\n",
    "res = grid.fit(X, y)"
   ]
  },
  {
   "cell_type": "code",
   "execution_count": 17,
   "metadata": {},
   "outputs": [
    {
     "data": {
      "text/plain": [
       "{'estimator': RandomForestRegressor(max_depth=5, min_samples_leaf=2, min_samples_split=3,\n",
       "                       n_estimators=300),\n",
       " 'estimator__max_depth': 5,\n",
       " 'estimator__min_samples_leaf': 2,\n",
       " 'estimator__min_samples_split': 3,\n",
       " 'estimator__n_estimators': 300}"
      ]
     },
     "execution_count": 17,
     "metadata": {},
     "output_type": "execute_result"
    }
   ],
   "source": [
    "best_model = grid.best_params_\n",
    "best_model"
   ]
  },
  {
   "cell_type": "code",
   "execution_count": 18,
   "metadata": {},
   "outputs": [
    {
     "data": {
      "text/html": [
       "<div>\n",
       "<style scoped>\n",
       "    .dataframe tbody tr th:only-of-type {\n",
       "        vertical-align: middle;\n",
       "    }\n",
       "\n",
       "    .dataframe tbody tr th {\n",
       "        vertical-align: top;\n",
       "    }\n",
       "\n",
       "    .dataframe thead th {\n",
       "        text-align: right;\n",
       "    }\n",
       "</style>\n",
       "<table border=\"1\" class=\"dataframe\">\n",
       "  <thead>\n",
       "    <tr style=\"text-align: right;\">\n",
       "      <th></th>\n",
       "      <th>mean_fit_time</th>\n",
       "      <th>std_fit_time</th>\n",
       "      <th>mean_score_time</th>\n",
       "      <th>std_score_time</th>\n",
       "      <th>param_estimator</th>\n",
       "      <th>param_estimator__max_depth</th>\n",
       "      <th>param_estimator__max_features</th>\n",
       "      <th>param_estimator__min_samples_leaf</th>\n",
       "      <th>param_estimator__min_samples_split</th>\n",
       "      <th>param_estimator__n_estimators</th>\n",
       "      <th>param_estimator__n_neighbors</th>\n",
       "      <th>params</th>\n",
       "      <th>split0_test_score</th>\n",
       "      <th>split1_test_score</th>\n",
       "      <th>split2_test_score</th>\n",
       "      <th>split3_test_score</th>\n",
       "      <th>split4_test_score</th>\n",
       "      <th>mean_test_score</th>\n",
       "      <th>std_test_score</th>\n",
       "      <th>rank_test_score</th>\n",
       "    </tr>\n",
       "  </thead>\n",
       "  <tbody>\n",
       "    <tr>\n",
       "      <th>0</th>\n",
       "      <td>0.031572</td>\n",
       "      <td>0.005055</td>\n",
       "      <td>0.008255</td>\n",
       "      <td>0.002132</td>\n",
       "      <td>LinearRegression()</td>\n",
       "      <td>NaN</td>\n",
       "      <td>NaN</td>\n",
       "      <td>NaN</td>\n",
       "      <td>NaN</td>\n",
       "      <td>NaN</td>\n",
       "      <td>NaN</td>\n",
       "      <td>{'estimator': LinearRegression()}</td>\n",
       "      <td>0.872426</td>\n",
       "      <td>0.881243</td>\n",
       "      <td>0.884765</td>\n",
       "      <td>0.883267</td>\n",
       "      <td>0.877325</td>\n",
       "      <td>0.879805</td>\n",
       "      <td>0.004456</td>\n",
       "      <td>102</td>\n",
       "    </tr>\n",
       "    <tr>\n",
       "      <th>1</th>\n",
       "      <td>0.012694</td>\n",
       "      <td>0.001393</td>\n",
       "      <td>0.003582</td>\n",
       "      <td>0.001592</td>\n",
       "      <td>DecisionTreeRegressor()</td>\n",
       "      <td>1</td>\n",
       "      <td>sqrt</td>\n",
       "      <td>1</td>\n",
       "      <td>10</td>\n",
       "      <td>NaN</td>\n",
       "      <td>NaN</td>\n",
       "      <td>{'estimator': DecisionTreeRegressor(), 'estima...</td>\n",
       "      <td>0.020098</td>\n",
       "      <td>0.024434</td>\n",
       "      <td>0.028283</td>\n",
       "      <td>0.720682</td>\n",
       "      <td>0.031033</td>\n",
       "      <td>0.164906</td>\n",
       "      <td>0.277912</td>\n",
       "      <td>204</td>\n",
       "    </tr>\n",
       "    <tr>\n",
       "      <th>2</th>\n",
       "      <td>0.019162</td>\n",
       "      <td>0.003246</td>\n",
       "      <td>0.003987</td>\n",
       "      <td>0.000892</td>\n",
       "      <td>DecisionTreeRegressor()</td>\n",
       "      <td>1</td>\n",
       "      <td>sqrt</td>\n",
       "      <td>1</td>\n",
       "      <td>50</td>\n",
       "      <td>NaN</td>\n",
       "      <td>NaN</td>\n",
       "      <td>{'estimator': DecisionTreeRegressor(), 'estima...</td>\n",
       "      <td>0.020098</td>\n",
       "      <td>0.725066</td>\n",
       "      <td>0.728904</td>\n",
       "      <td>0.720682</td>\n",
       "      <td>0.018912</td>\n",
       "      <td>0.442733</td>\n",
       "      <td>0.345574</td>\n",
       "      <td>186</td>\n",
       "    </tr>\n",
       "    <tr>\n",
       "      <th>3</th>\n",
       "      <td>0.017556</td>\n",
       "      <td>0.004651</td>\n",
       "      <td>0.003804</td>\n",
       "      <td>0.000876</td>\n",
       "      <td>DecisionTreeRegressor()</td>\n",
       "      <td>1</td>\n",
       "      <td>sqrt</td>\n",
       "      <td>1</td>\n",
       "      <td>100</td>\n",
       "      <td>NaN</td>\n",
       "      <td>NaN</td>\n",
       "      <td>{'estimator': DecisionTreeRegressor(), 'estima...</td>\n",
       "      <td>0.026467</td>\n",
       "      <td>0.026115</td>\n",
       "      <td>0.017209</td>\n",
       "      <td>0.025819</td>\n",
       "      <td>0.018912</td>\n",
       "      <td>0.022905</td>\n",
       "      <td>0.003997</td>\n",
       "      <td>214</td>\n",
       "    </tr>\n",
       "    <tr>\n",
       "      <th>4</th>\n",
       "      <td>0.011144</td>\n",
       "      <td>0.001832</td>\n",
       "      <td>0.003034</td>\n",
       "      <td>0.001068</td>\n",
       "      <td>DecisionTreeRegressor()</td>\n",
       "      <td>1</td>\n",
       "      <td>sqrt</td>\n",
       "      <td>2</td>\n",
       "      <td>10</td>\n",
       "      <td>NaN</td>\n",
       "      <td>NaN</td>\n",
       "      <td>{'estimator': DecisionTreeRegressor(), 'estima...</td>\n",
       "      <td>0.727133</td>\n",
       "      <td>0.012067</td>\n",
       "      <td>0.028283</td>\n",
       "      <td>0.014983</td>\n",
       "      <td>0.018912</td>\n",
       "      <td>0.160276</td>\n",
       "      <td>0.283482</td>\n",
       "      <td>211</td>\n",
       "    </tr>\n",
       "  </tbody>\n",
       "</table>\n",
       "</div>"
      ],
      "text/plain": [
       "   mean_fit_time  std_fit_time  mean_score_time  std_score_time  \\\n",
       "0       0.031572      0.005055         0.008255        0.002132   \n",
       "1       0.012694      0.001393         0.003582        0.001592   \n",
       "2       0.019162      0.003246         0.003987        0.000892   \n",
       "3       0.017556      0.004651         0.003804        0.000876   \n",
       "4       0.011144      0.001832         0.003034        0.001068   \n",
       "\n",
       "           param_estimator param_estimator__max_depth  \\\n",
       "0       LinearRegression()                        NaN   \n",
       "1  DecisionTreeRegressor()                          1   \n",
       "2  DecisionTreeRegressor()                          1   \n",
       "3  DecisionTreeRegressor()                          1   \n",
       "4  DecisionTreeRegressor()                          1   \n",
       "\n",
       "  param_estimator__max_features param_estimator__min_samples_leaf  \\\n",
       "0                           NaN                               NaN   \n",
       "1                          sqrt                                 1   \n",
       "2                          sqrt                                 1   \n",
       "3                          sqrt                                 1   \n",
       "4                          sqrt                                 2   \n",
       "\n",
       "  param_estimator__min_samples_split param_estimator__n_estimators  \\\n",
       "0                                NaN                           NaN   \n",
       "1                                 10                           NaN   \n",
       "2                                 50                           NaN   \n",
       "3                                100                           NaN   \n",
       "4                                 10                           NaN   \n",
       "\n",
       "  param_estimator__n_neighbors  \\\n",
       "0                          NaN   \n",
       "1                          NaN   \n",
       "2                          NaN   \n",
       "3                          NaN   \n",
       "4                          NaN   \n",
       "\n",
       "                                              params  split0_test_score  \\\n",
       "0                  {'estimator': LinearRegression()}           0.872426   \n",
       "1  {'estimator': DecisionTreeRegressor(), 'estima...           0.020098   \n",
       "2  {'estimator': DecisionTreeRegressor(), 'estima...           0.020098   \n",
       "3  {'estimator': DecisionTreeRegressor(), 'estima...           0.026467   \n",
       "4  {'estimator': DecisionTreeRegressor(), 'estima...           0.727133   \n",
       "\n",
       "   split1_test_score  split2_test_score  split3_test_score  split4_test_score  \\\n",
       "0           0.881243           0.884765           0.883267           0.877325   \n",
       "1           0.024434           0.028283           0.720682           0.031033   \n",
       "2           0.725066           0.728904           0.720682           0.018912   \n",
       "3           0.026115           0.017209           0.025819           0.018912   \n",
       "4           0.012067           0.028283           0.014983           0.018912   \n",
       "\n",
       "   mean_test_score  std_test_score  rank_test_score  \n",
       "0         0.879805        0.004456              102  \n",
       "1         0.164906        0.277912              204  \n",
       "2         0.442733        0.345574              186  \n",
       "3         0.022905        0.003997              214  \n",
       "4         0.160276        0.283482              211  "
      ]
     },
     "execution_count": 18,
     "metadata": {},
     "output_type": "execute_result"
    }
   ],
   "source": [
    "results = pd.DataFrame(grid.cv_results_).head()\n",
    "results.head()"
   ]
  },
  {
   "cell_type": "code",
   "execution_count": 32,
   "metadata": {},
   "outputs": [
    {
     "name": "stderr",
     "output_type": "stream",
     "text": [
      "[Parallel(n_jobs=-1)]: Using backend LokyBackend with 8 concurrent workers.\n",
      "[Parallel(n_jobs=-1)]: Done   3 out of  10 | elapsed:   15.9s remaining:   37.3s\n",
      "[Parallel(n_jobs=-1)]: Done   7 out of  10 | elapsed:   16.0s remaining:    6.8s\n",
      "[Parallel(n_jobs=-1)]: Done  10 out of  10 | elapsed:   26.4s finished\n"
     ]
    }
   ],
   "source": [
    "results = cross_validate(estimator=RandomForestRegressor(max_depth=10,\n",
    "                        min_samples_split=3, min_samples_leaf = 2, n_estimators=300), \n",
    "               X=X, y=y, scoring='neg_root_mean_squared_error', cv=10, verbose = 3,  n_jobs= -1)"
   ]
  },
  {
   "cell_type": "code",
   "execution_count": 33,
   "metadata": {},
   "outputs": [
    {
     "data": {
      "text/plain": [
       "0.10796858471961646"
      ]
     },
     "execution_count": 33,
     "metadata": {},
     "output_type": "execute_result"
    }
   ],
   "source": [
    "rmse_ = abs(results[\"test_score\"].mean())\n",
    "rmse_"
   ]
  },
  {
   "cell_type": "code",
   "execution_count": null,
   "metadata": {},
   "outputs": [],
   "source": [
    "forest = RandomForestRegressor(max_depth=10,)"
   ]
  },
  {
   "cell_type": "code",
   "execution_count": null,
   "metadata": {},
   "outputs": [],
   "source": [
    "forest.fit(train.)"
   ]
  },
  {
   "cell_type": "code",
   "execution_count": null,
   "metadata": {},
   "outputs": [],
   "source": [
    "model = forest.predict(test)"
   ]
  },
  {
   "cell_type": "code",
   "execution_count": null,
   "metadata": {},
   "outputs": [],
   "source": [
    "import pickle\n",
    "def save_scaler(amount, filename = \"scaler.pkl\"): \n",
    "    with open(filename, \"wb\") as f:\n",
    "        pickle.dump(amount, f)\n",
    "\n",
    "save_scaler(scaler,filename=\"standard_scaler.pkl\")"
   ]
  }
 ],
 "metadata": {
  "interpreter": {
   "hash": "a12e2a4323b2f78fc80bc9af7b1a03df0527f4eb569d45f0586a1ac4c8c01671"
  },
  "kernelspec": {
   "display_name": "Python 3.9.7 ('py39')",
   "language": "python",
   "name": "python3"
  },
  "language_info": {
   "codemirror_mode": {
    "name": "ipython",
    "version": 3
   },
   "file_extension": ".py",
   "mimetype": "text/x-python",
   "name": "python",
   "nbconvert_exporter": "python",
   "pygments_lexer": "ipython3",
   "version": "3.9.7"
  },
  "orig_nbformat": 4
 },
 "nbformat": 4,
 "nbformat_minor": 2
}
