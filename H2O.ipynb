{
 "cells": [
  {
   "cell_type": "code",
   "execution_count": 4,
   "metadata": {},
   "outputs": [
    {
     "name": "stdout",
     "output_type": "stream",
     "text": [
      "Checking whether there is an H2O instance running at http://localhost:54321 ..... not found.\n",
      "Attempting to start a local H2O server...\n",
      "; Java HotSpot(TM) 64-Bit Server VM (build 25.333-b02, mixed mode)\n",
      "  Starting server from C:\\Users\\mituc\\anaconda3\\envs\\py39\\lib\\site-packages\\h2o\\backend\\bin\\h2o.jar\n",
      "  Ice root: C:\\Users\\mituc\\AppData\\Local\\Temp\\tmpo_ycaqpu\n",
      "  JVM stdout: C:\\Users\\mituc\\AppData\\Local\\Temp\\tmpo_ycaqpu\\h2o_mituc_started_from_python.out\n",
      "  JVM stderr: C:\\Users\\mituc\\AppData\\Local\\Temp\\tmpo_ycaqpu\\h2o_mituc_started_from_python.err\n",
      "  Server is running at http://127.0.0.1:54321\n",
      "Connecting to H2O server at http://127.0.0.1:54321 ... successful.\n"
     ]
    },
    {
     "data": {
      "text/html": [
       "<div style=\"overflow:auto\"><table style=\"width:50%\"><tr><td>H2O_cluster_uptime:</td>\n",
       "<td>02 secs</td></tr>\n",
       "<tr><td>H2O_cluster_timezone:</td>\n",
       "<td>Europe/Paris</td></tr>\n",
       "<tr><td>H2O_data_parsing_timezone:</td>\n",
       "<td>UTC</td></tr>\n",
       "<tr><td>H2O_cluster_version:</td>\n",
       "<td>3.36.1.2</td></tr>\n",
       "<tr><td>H2O_cluster_version_age:</td>\n",
       "<td>1 day </td></tr>\n",
       "<tr><td>H2O_cluster_name:</td>\n",
       "<td>H2O_from_python_mituc_dyubjy</td></tr>\n",
       "<tr><td>H2O_cluster_total_nodes:</td>\n",
       "<td>1</td></tr>\n",
       "<tr><td>H2O_cluster_free_memory:</td>\n",
       "<td>7.111 Gb</td></tr>\n",
       "<tr><td>H2O_cluster_total_cores:</td>\n",
       "<td>8</td></tr>\n",
       "<tr><td>H2O_cluster_allowed_cores:</td>\n",
       "<td>8</td></tr>\n",
       "<tr><td>H2O_cluster_status:</td>\n",
       "<td>locked, healthy</td></tr>\n",
       "<tr><td>H2O_connection_url:</td>\n",
       "<td>http://127.0.0.1:54321</td></tr>\n",
       "<tr><td>H2O_connection_proxy:</td>\n",
       "<td>{\"http\": null, \"https\": null}</td></tr>\n",
       "<tr><td>H2O_internal_security:</td>\n",
       "<td>False</td></tr>\n",
       "<tr><td>Python_version:</td>\n",
       "<td>3.9.7 final</td></tr></table></div>"
      ],
      "text/plain": [
       "--------------------------  -----------------------------\n",
       "H2O_cluster_uptime:         02 secs\n",
       "H2O_cluster_timezone:       Europe/Paris\n",
       "H2O_data_parsing_timezone:  UTC\n",
       "H2O_cluster_version:        3.36.1.2\n",
       "H2O_cluster_version_age:    1 day\n",
       "H2O_cluster_name:           H2O_from_python_mituc_dyubjy\n",
       "H2O_cluster_total_nodes:    1\n",
       "H2O_cluster_free_memory:    7.111 Gb\n",
       "H2O_cluster_total_cores:    8\n",
       "H2O_cluster_allowed_cores:  8\n",
       "H2O_cluster_status:         locked, healthy\n",
       "H2O_connection_url:         http://127.0.0.1:54321\n",
       "H2O_connection_proxy:       {\"http\": null, \"https\": null}\n",
       "H2O_internal_security:      False\n",
       "Python_version:             3.9.7 final\n",
       "--------------------------  -----------------------------"
      ]
     },
     "metadata": {},
     "output_type": "display_data"
    }
   ],
   "source": [
    "\n",
    "import pandas as pd\n",
    "import numpy as np\n",
    "import h2o\n",
    "h2o.init(max_mem_size='8G')\n",
    "from h2o.automl import H2OAutoML"
   ]
  },
  {
   "cell_type": "code",
   "execution_count": 161,
   "metadata": {},
   "outputs": [
    {
     "name": "stdout",
     "output_type": "stream",
     "text": [
      "Parse progress: |████████████████████████████████████████████████████████████████| (done) 100%\n"
     ]
    }
   ],
   "source": [
    "test = h2o.import_file(\"data/encodings/test_enc_6.csv\")"
   ]
  },
  {
   "cell_type": "code",
   "execution_count": 148,
   "metadata": {},
   "outputs": [
    {
     "name": "stdout",
     "output_type": "stream",
     "text": [
      "Parse progress: |████████████████████████████████████████████████████████████████| (done) 100%\n"
     ]
    }
   ],
   "source": [
    "train = h2o.import_file(\"data/encodings/train_enc_6.csv\")"
   ]
  },
  {
   "cell_type": "code",
   "execution_count": 149,
   "metadata": {},
   "outputs": [
    {
     "data": {
      "text/html": [
       "<table>\n",
       "<thead>\n",
       "<tr><th style=\"text-align: right;\">  carat</th><th style=\"text-align: right;\">  depth</th><th style=\"text-align: right;\">  table</th><th style=\"text-align: right;\">  price</th><th style=\"text-align: right;\">  x0_0</th><th style=\"text-align: right;\">  x0_1</th><th style=\"text-align: right;\">  x0_2</th><th style=\"text-align: right;\">  x0_3</th><th style=\"text-align: right;\">  x0_4</th><th style=\"text-align: right;\">  x1_0</th><th style=\"text-align: right;\">  x1_1</th><th style=\"text-align: right;\">  x1_2</th><th style=\"text-align: right;\">  x1_3</th><th style=\"text-align: right;\">  x1_4</th><th style=\"text-align: right;\">  x1_5</th><th style=\"text-align: right;\">  x1_6</th><th style=\"text-align: right;\">  x2_0</th><th style=\"text-align: right;\">  x2_1</th><th style=\"text-align: right;\">  x2_2</th><th style=\"text-align: right;\">  x2_3</th><th style=\"text-align: right;\">  x2_4</th><th style=\"text-align: right;\">  x2_5</th><th style=\"text-align: right;\">  x2_6</th><th style=\"text-align: right;\">  x2_7</th></tr>\n",
       "</thead>\n",
       "<tbody>\n",
       "<tr><td style=\"text-align: right;\">   0.3 </td><td style=\"text-align: right;\"> 0.6239</td><td style=\"text-align: right;\">     58</td><td style=\"text-align: right;\">  6.353</td><td style=\"text-align: right;\">     0</td><td style=\"text-align: right;\">     0</td><td style=\"text-align: right;\">     0</td><td style=\"text-align: right;\">     1</td><td style=\"text-align: right;\">     0</td><td style=\"text-align: right;\">     0</td><td style=\"text-align: right;\">     0</td><td style=\"text-align: right;\">     0</td><td style=\"text-align: right;\">     0</td><td style=\"text-align: right;\">     0</td><td style=\"text-align: right;\">     0</td><td style=\"text-align: right;\">     1</td><td style=\"text-align: right;\">     0</td><td style=\"text-align: right;\">     1</td><td style=\"text-align: right;\">     0</td><td style=\"text-align: right;\">     0</td><td style=\"text-align: right;\">     0</td><td style=\"text-align: right;\">     0</td><td style=\"text-align: right;\">     0</td><td style=\"text-align: right;\">     0</td></tr>\n",
       "<tr><td style=\"text-align: right;\">   1.01</td><td style=\"text-align: right;\"> 0.6273</td><td style=\"text-align: right;\">     56</td><td style=\"text-align: right;\">  9.183</td><td style=\"text-align: right;\">     0</td><td style=\"text-align: right;\">     0</td><td style=\"text-align: right;\">     0</td><td style=\"text-align: right;\">     0</td><td style=\"text-align: right;\">     1</td><td style=\"text-align: right;\">     0</td><td style=\"text-align: right;\">     0</td><td style=\"text-align: right;\">     0</td><td style=\"text-align: right;\">     0</td><td style=\"text-align: right;\">     0</td><td style=\"text-align: right;\">     1</td><td style=\"text-align: right;\">     0</td><td style=\"text-align: right;\">     0</td><td style=\"text-align: right;\">     0</td><td style=\"text-align: right;\">     0</td><td style=\"text-align: right;\">     0</td><td style=\"text-align: right;\">     0</td><td style=\"text-align: right;\">     1</td><td style=\"text-align: right;\">     0</td><td style=\"text-align: right;\">     0</td></tr>\n",
       "<tr><td style=\"text-align: right;\">   0.72</td><td style=\"text-align: right;\"> 0.6183</td><td style=\"text-align: right;\">     59</td><td style=\"text-align: right;\">  7.983</td><td style=\"text-align: right;\">     0</td><td style=\"text-align: right;\">     0</td><td style=\"text-align: right;\">     0</td><td style=\"text-align: right;\">     0</td><td style=\"text-align: right;\">     1</td><td style=\"text-align: right;\">     0</td><td style=\"text-align: right;\">     0</td><td style=\"text-align: right;\">     0</td><td style=\"text-align: right;\">     0</td><td style=\"text-align: right;\">     1</td><td style=\"text-align: right;\">     0</td><td style=\"text-align: right;\">     0</td><td style=\"text-align: right;\">     0</td><td style=\"text-align: right;\">     0</td><td style=\"text-align: right;\">     0</td><td style=\"text-align: right;\">     1</td><td style=\"text-align: right;\">     0</td><td style=\"text-align: right;\">     0</td><td style=\"text-align: right;\">     0</td><td style=\"text-align: right;\">     0</td></tr>\n",
       "<tr><td style=\"text-align: right;\">   1.08</td><td style=\"text-align: right;\"> 0.6319</td><td style=\"text-align: right;\">     57</td><td style=\"text-align: right;\">  8.371</td><td style=\"text-align: right;\">     0</td><td style=\"text-align: right;\">     0</td><td style=\"text-align: right;\">     1</td><td style=\"text-align: right;\">     0</td><td style=\"text-align: right;\">     0</td><td style=\"text-align: right;\">     0</td><td style=\"text-align: right;\">     0</td><td style=\"text-align: right;\">     0</td><td style=\"text-align: right;\">     1</td><td style=\"text-align: right;\">     0</td><td style=\"text-align: right;\">     0</td><td style=\"text-align: right;\">     0</td><td style=\"text-align: right;\">     0</td><td style=\"text-align: right;\">     1</td><td style=\"text-align: right;\">     0</td><td style=\"text-align: right;\">     0</td><td style=\"text-align: right;\">     0</td><td style=\"text-align: right;\">     0</td><td style=\"text-align: right;\">     0</td><td style=\"text-align: right;\">     0</td></tr>\n",
       "<tr><td style=\"text-align: right;\">   0.36</td><td style=\"text-align: right;\"> 0.6232</td><td style=\"text-align: right;\">     59</td><td style=\"text-align: right;\">  6.588</td><td style=\"text-align: right;\">     0</td><td style=\"text-align: right;\">     0</td><td style=\"text-align: right;\">     0</td><td style=\"text-align: right;\">     1</td><td style=\"text-align: right;\">     0</td><td style=\"text-align: right;\">     0</td><td style=\"text-align: right;\">     0</td><td style=\"text-align: right;\">     0</td><td style=\"text-align: right;\">     1</td><td style=\"text-align: right;\">     0</td><td style=\"text-align: right;\">     0</td><td style=\"text-align: right;\">     0</td><td style=\"text-align: right;\">     0</td><td style=\"text-align: right;\">     0</td><td style=\"text-align: right;\">     0</td><td style=\"text-align: right;\">     0</td><td style=\"text-align: right;\">     1</td><td style=\"text-align: right;\">     0</td><td style=\"text-align: right;\">     0</td><td style=\"text-align: right;\">     0</td></tr>\n",
       "<tr><td style=\"text-align: right;\">   0.53</td><td style=\"text-align: right;\"> 0.6146</td><td style=\"text-align: right;\">     57</td><td style=\"text-align: right;\">  7.496</td><td style=\"text-align: right;\">     0</td><td style=\"text-align: right;\">     0</td><td style=\"text-align: right;\">     0</td><td style=\"text-align: right;\">     0</td><td style=\"text-align: right;\">     1</td><td style=\"text-align: right;\">     0</td><td style=\"text-align: right;\">     0</td><td style=\"text-align: right;\">     0</td><td style=\"text-align: right;\">     0</td><td style=\"text-align: right;\">     1</td><td style=\"text-align: right;\">     0</td><td style=\"text-align: right;\">     0</td><td style=\"text-align: right;\">     0</td><td style=\"text-align: right;\">     0</td><td style=\"text-align: right;\">     0</td><td style=\"text-align: right;\">     0</td><td style=\"text-align: right;\">     1</td><td style=\"text-align: right;\">     0</td><td style=\"text-align: right;\">     0</td><td style=\"text-align: right;\">     0</td></tr>\n",
       "<tr><td style=\"text-align: right;\">   1.74</td><td style=\"text-align: right;\"> 0.6214</td><td style=\"text-align: right;\">     59</td><td style=\"text-align: right;\">  8.979</td><td style=\"text-align: right;\">     0</td><td style=\"text-align: right;\">     0</td><td style=\"text-align: right;\">     0</td><td style=\"text-align: right;\">     1</td><td style=\"text-align: right;\">     0</td><td style=\"text-align: right;\">     0</td><td style=\"text-align: right;\">     0</td><td style=\"text-align: right;\">     1</td><td style=\"text-align: right;\">     0</td><td style=\"text-align: right;\">     0</td><td style=\"text-align: right;\">     0</td><td style=\"text-align: right;\">     0</td><td style=\"text-align: right;\">     0</td><td style=\"text-align: right;\">     0</td><td style=\"text-align: right;\">     1</td><td style=\"text-align: right;\">     0</td><td style=\"text-align: right;\">     0</td><td style=\"text-align: right;\">     0</td><td style=\"text-align: right;\">     0</td><td style=\"text-align: right;\">     0</td></tr>\n",
       "<tr><td style=\"text-align: right;\">   0.33</td><td style=\"text-align: right;\"> 0.5984</td><td style=\"text-align: right;\">     56</td><td style=\"text-align: right;\">  6.877</td><td style=\"text-align: right;\">     0</td><td style=\"text-align: right;\">     0</td><td style=\"text-align: right;\">     0</td><td style=\"text-align: right;\">     0</td><td style=\"text-align: right;\">     1</td><td style=\"text-align: right;\">     0</td><td style=\"text-align: right;\">     0</td><td style=\"text-align: right;\">     0</td><td style=\"text-align: right;\">     0</td><td style=\"text-align: right;\">     0</td><td style=\"text-align: right;\">     1</td><td style=\"text-align: right;\">     0</td><td style=\"text-align: right;\">     0</td><td style=\"text-align: right;\">     0</td><td style=\"text-align: right;\">     0</td><td style=\"text-align: right;\">     0</td><td style=\"text-align: right;\">     0</td><td style=\"text-align: right;\">     1</td><td style=\"text-align: right;\">     0</td><td style=\"text-align: right;\">     0</td></tr>\n",
       "<tr><td style=\"text-align: right;\">   0.32</td><td style=\"text-align: right;\"> 0.6285</td><td style=\"text-align: right;\">     56</td><td style=\"text-align: right;\">  6.554</td><td style=\"text-align: right;\">     0</td><td style=\"text-align: right;\">     0</td><td style=\"text-align: right;\">     1</td><td style=\"text-align: right;\">     0</td><td style=\"text-align: right;\">     0</td><td style=\"text-align: right;\">     0</td><td style=\"text-align: right;\">     0</td><td style=\"text-align: right;\">     0</td><td style=\"text-align: right;\">     0</td><td style=\"text-align: right;\">     0</td><td style=\"text-align: right;\">     1</td><td style=\"text-align: right;\">     0</td><td style=\"text-align: right;\">     0</td><td style=\"text-align: right;\">     0</td><td style=\"text-align: right;\">     0</td><td style=\"text-align: right;\">     1</td><td style=\"text-align: right;\">     0</td><td style=\"text-align: right;\">     0</td><td style=\"text-align: right;\">     0</td><td style=\"text-align: right;\">     0</td></tr>\n",
       "<tr><td style=\"text-align: right;\">   0.27</td><td style=\"text-align: right;\"> 0.6183</td><td style=\"text-align: right;\">     57</td><td style=\"text-align: right;\">  6.683</td><td style=\"text-align: right;\">     0</td><td style=\"text-align: right;\">     0</td><td style=\"text-align: right;\">     0</td><td style=\"text-align: right;\">     0</td><td style=\"text-align: right;\">     1</td><td style=\"text-align: right;\">     0</td><td style=\"text-align: right;\">     0</td><td style=\"text-align: right;\">     0</td><td style=\"text-align: right;\">     0</td><td style=\"text-align: right;\">     0</td><td style=\"text-align: right;\">     1</td><td style=\"text-align: right;\">     0</td><td style=\"text-align: right;\">     0</td><td style=\"text-align: right;\">     0</td><td style=\"text-align: right;\">     0</td><td style=\"text-align: right;\">     0</td><td style=\"text-align: right;\">     0</td><td style=\"text-align: right;\">     1</td><td style=\"text-align: right;\">     0</td><td style=\"text-align: right;\">     0</td></tr>\n",
       "</tbody>\n",
       "</table>"
      ]
     },
     "metadata": {},
     "output_type": "display_data"
    },
    {
     "data": {
      "text/plain": []
     },
     "execution_count": 149,
     "metadata": {},
     "output_type": "execute_result"
    }
   ],
   "source": [
    "train.ascharacter().asnumeric()"
   ]
  },
  {
   "cell_type": "code",
   "execution_count": 162,
   "metadata": {},
   "outputs": [
    {
     "data": {
      "text/html": [
       "<table>\n",
       "<thead>\n",
       "<tr><th style=\"text-align: right;\">  carat</th><th style=\"text-align: right;\">  depth</th><th style=\"text-align: right;\">  table</th><th style=\"text-align: right;\">  x0_0</th><th style=\"text-align: right;\">  x0_1</th><th style=\"text-align: right;\">  x0_2</th><th style=\"text-align: right;\">  x0_3</th><th style=\"text-align: right;\">  x0_4</th><th style=\"text-align: right;\">  x1_0</th><th style=\"text-align: right;\">  x1_1</th><th style=\"text-align: right;\">  x1_2</th><th style=\"text-align: right;\">  x1_3</th><th style=\"text-align: right;\">  x1_4</th><th style=\"text-align: right;\">  x1_5</th><th style=\"text-align: right;\">  x1_6</th><th style=\"text-align: right;\">  x2_0</th><th style=\"text-align: right;\">  x2_1</th><th style=\"text-align: right;\">  x2_2</th><th style=\"text-align: right;\">  x2_3</th><th style=\"text-align: right;\">  x2_4</th><th style=\"text-align: right;\">  x2_5</th><th style=\"text-align: right;\">  x2_6</th><th style=\"text-align: right;\">  x2_7</th></tr>\n",
       "</thead>\n",
       "<tbody>\n",
       "<tr><td style=\"text-align: right;\">   0.32</td><td style=\"text-align: right;\"> 0.6053</td><td style=\"text-align: right;\">     58</td><td style=\"text-align: right;\">     0</td><td style=\"text-align: right;\">     0</td><td style=\"text-align: right;\">     0</td><td style=\"text-align: right;\">     0</td><td style=\"text-align: right;\">     1</td><td style=\"text-align: right;\">     0</td><td style=\"text-align: right;\">     1</td><td style=\"text-align: right;\">     0</td><td style=\"text-align: right;\">     0</td><td style=\"text-align: right;\">     0</td><td style=\"text-align: right;\">     0</td><td style=\"text-align: right;\">     0</td><td style=\"text-align: right;\">     0</td><td style=\"text-align: right;\">     0</td><td style=\"text-align: right;\">     1</td><td style=\"text-align: right;\">     0</td><td style=\"text-align: right;\">     0</td><td style=\"text-align: right;\">     0</td><td style=\"text-align: right;\">     0</td><td style=\"text-align: right;\">     0</td></tr>\n",
       "<tr><td style=\"text-align: right;\">   1.24</td><td style=\"text-align: right;\"> 0.6292</td><td style=\"text-align: right;\">     60</td><td style=\"text-align: right;\">     0</td><td style=\"text-align: right;\">     0</td><td style=\"text-align: right;\">     0</td><td style=\"text-align: right;\">     1</td><td style=\"text-align: right;\">     0</td><td style=\"text-align: right;\">     0</td><td style=\"text-align: right;\">     1</td><td style=\"text-align: right;\">     0</td><td style=\"text-align: right;\">     0</td><td style=\"text-align: right;\">     0</td><td style=\"text-align: right;\">     0</td><td style=\"text-align: right;\">     0</td><td style=\"text-align: right;\">     0</td><td style=\"text-align: right;\">     0</td><td style=\"text-align: right;\">     1</td><td style=\"text-align: right;\">     0</td><td style=\"text-align: right;\">     0</td><td style=\"text-align: right;\">     0</td><td style=\"text-align: right;\">     0</td><td style=\"text-align: right;\">     0</td></tr>\n",
       "<tr><td style=\"text-align: right;\">   1.66</td><td style=\"text-align: right;\"> 0.6204</td><td style=\"text-align: right;\">     59</td><td style=\"text-align: right;\">     0</td><td style=\"text-align: right;\">     0</td><td style=\"text-align: right;\">     0</td><td style=\"text-align: right;\">     1</td><td style=\"text-align: right;\">     0</td><td style=\"text-align: right;\">     0</td><td style=\"text-align: right;\">     0</td><td style=\"text-align: right;\">     0</td><td style=\"text-align: right;\">     0</td><td style=\"text-align: right;\">     0</td><td style=\"text-align: right;\">     0</td><td style=\"text-align: right;\">     1</td><td style=\"text-align: right;\">     0</td><td style=\"text-align: right;\">     0</td><td style=\"text-align: right;\">     1</td><td style=\"text-align: right;\">     0</td><td style=\"text-align: right;\">     0</td><td style=\"text-align: right;\">     0</td><td style=\"text-align: right;\">     0</td><td style=\"text-align: right;\">     0</td></tr>\n",
       "<tr><td style=\"text-align: right;\">   0.75</td><td style=\"text-align: right;\"> 0.6064</td><td style=\"text-align: right;\">     56</td><td style=\"text-align: right;\">     0</td><td style=\"text-align: right;\">     0</td><td style=\"text-align: right;\">     0</td><td style=\"text-align: right;\">     1</td><td style=\"text-align: right;\">     0</td><td style=\"text-align: right;\">     0</td><td style=\"text-align: right;\">     0</td><td style=\"text-align: right;\">     0</td><td style=\"text-align: right;\">     0</td><td style=\"text-align: right;\">     0</td><td style=\"text-align: right;\">     0</td><td style=\"text-align: right;\">     1</td><td style=\"text-align: right;\">     0</td><td style=\"text-align: right;\">     1</td><td style=\"text-align: right;\">     0</td><td style=\"text-align: right;\">     0</td><td style=\"text-align: right;\">     0</td><td style=\"text-align: right;\">     0</td><td style=\"text-align: right;\">     0</td><td style=\"text-align: right;\">     0</td></tr>\n",
       "<tr><td style=\"text-align: right;\">   1.5 </td><td style=\"text-align: right;\"> 0.6481</td><td style=\"text-align: right;\">     55</td><td style=\"text-align: right;\">     1</td><td style=\"text-align: right;\">     0</td><td style=\"text-align: right;\">     0</td><td style=\"text-align: right;\">     0</td><td style=\"text-align: right;\">     0</td><td style=\"text-align: right;\">     0</td><td style=\"text-align: right;\">     0</td><td style=\"text-align: right;\">     0</td><td style=\"text-align: right;\">     0</td><td style=\"text-align: right;\">     0</td><td style=\"text-align: right;\">     1</td><td style=\"text-align: right;\">     0</td><td style=\"text-align: right;\">     0</td><td style=\"text-align: right;\">     1</td><td style=\"text-align: right;\">     0</td><td style=\"text-align: right;\">     0</td><td style=\"text-align: right;\">     0</td><td style=\"text-align: right;\">     0</td><td style=\"text-align: right;\">     0</td><td style=\"text-align: right;\">     0</td></tr>\n",
       "<tr><td style=\"text-align: right;\">   0.82</td><td style=\"text-align: right;\"> 0.6153</td><td style=\"text-align: right;\">     56</td><td style=\"text-align: right;\">     0</td><td style=\"text-align: right;\">     0</td><td style=\"text-align: right;\">     0</td><td style=\"text-align: right;\">     0</td><td style=\"text-align: right;\">     1</td><td style=\"text-align: right;\">     0</td><td style=\"text-align: right;\">     0</td><td style=\"text-align: right;\">     1</td><td style=\"text-align: right;\">     0</td><td style=\"text-align: right;\">     0</td><td style=\"text-align: right;\">     0</td><td style=\"text-align: right;\">     0</td><td style=\"text-align: right;\">     0</td><td style=\"text-align: right;\">     0</td><td style=\"text-align: right;\">     0</td><td style=\"text-align: right;\">     1</td><td style=\"text-align: right;\">     0</td><td style=\"text-align: right;\">     0</td><td style=\"text-align: right;\">     0</td><td style=\"text-align: right;\">     0</td></tr>\n",
       "<tr><td style=\"text-align: right;\">   0.54</td><td style=\"text-align: right;\"> 0.6178</td><td style=\"text-align: right;\">     54</td><td style=\"text-align: right;\">     0</td><td style=\"text-align: right;\">     0</td><td style=\"text-align: right;\">     0</td><td style=\"text-align: right;\">     0</td><td style=\"text-align: right;\">     1</td><td style=\"text-align: right;\">     0</td><td style=\"text-align: right;\">     0</td><td style=\"text-align: right;\">     0</td><td style=\"text-align: right;\">     1</td><td style=\"text-align: right;\">     0</td><td style=\"text-align: right;\">     0</td><td style=\"text-align: right;\">     0</td><td style=\"text-align: right;\">     0</td><td style=\"text-align: right;\">     1</td><td style=\"text-align: right;\">     0</td><td style=\"text-align: right;\">     0</td><td style=\"text-align: right;\">     0</td><td style=\"text-align: right;\">     0</td><td style=\"text-align: right;\">     0</td><td style=\"text-align: right;\">     0</td></tr>\n",
       "<tr><td style=\"text-align: right;\">   0.45</td><td style=\"text-align: right;\"> 0.6373</td><td style=\"text-align: right;\">     61</td><td style=\"text-align: right;\">     0</td><td style=\"text-align: right;\">     1</td><td style=\"text-align: right;\">     0</td><td style=\"text-align: right;\">     0</td><td style=\"text-align: right;\">     0</td><td style=\"text-align: right;\">     0</td><td style=\"text-align: right;\">     0</td><td style=\"text-align: right;\">     0</td><td style=\"text-align: right;\">     0</td><td style=\"text-align: right;\">     0</td><td style=\"text-align: right;\">     0</td><td style=\"text-align: right;\">     1</td><td style=\"text-align: right;\">     0</td><td style=\"text-align: right;\">     0</td><td style=\"text-align: right;\">     0</td><td style=\"text-align: right;\">     1</td><td style=\"text-align: right;\">     0</td><td style=\"text-align: right;\">     0</td><td style=\"text-align: right;\">     0</td><td style=\"text-align: right;\">     0</td></tr>\n",
       "<tr><td style=\"text-align: right;\">   0.31</td><td style=\"text-align: right;\"> 0.6324</td><td style=\"text-align: right;\">     57</td><td style=\"text-align: right;\">     0</td><td style=\"text-align: right;\">     0</td><td style=\"text-align: right;\">     1</td><td style=\"text-align: right;\">     0</td><td style=\"text-align: right;\">     0</td><td style=\"text-align: right;\">     0</td><td style=\"text-align: right;\">     0</td><td style=\"text-align: right;\">     0</td><td style=\"text-align: right;\">     1</td><td style=\"text-align: right;\">     0</td><td style=\"text-align: right;\">     0</td><td style=\"text-align: right;\">     0</td><td style=\"text-align: right;\">     0</td><td style=\"text-align: right;\">     0</td><td style=\"text-align: right;\">     1</td><td style=\"text-align: right;\">     0</td><td style=\"text-align: right;\">     0</td><td style=\"text-align: right;\">     0</td><td style=\"text-align: right;\">     0</td><td style=\"text-align: right;\">     0</td></tr>\n",
       "<tr><td style=\"text-align: right;\">   0.3 </td><td style=\"text-align: right;\"> 0.6068</td><td style=\"text-align: right;\">     60</td><td style=\"text-align: right;\">     0</td><td style=\"text-align: right;\">     0</td><td style=\"text-align: right;\">     0</td><td style=\"text-align: right;\">     1</td><td style=\"text-align: right;\">     0</td><td style=\"text-align: right;\">     0</td><td style=\"text-align: right;\">     0</td><td style=\"text-align: right;\">     0</td><td style=\"text-align: right;\">     0</td><td style=\"text-align: right;\">     0</td><td style=\"text-align: right;\">     0</td><td style=\"text-align: right;\">     1</td><td style=\"text-align: right;\">     0</td><td style=\"text-align: right;\">     0</td><td style=\"text-align: right;\">     0</td><td style=\"text-align: right;\">     1</td><td style=\"text-align: right;\">     0</td><td style=\"text-align: right;\">     0</td><td style=\"text-align: right;\">     0</td><td style=\"text-align: right;\">     0</td></tr>\n",
       "</tbody>\n",
       "</table>"
      ]
     },
     "metadata": {},
     "output_type": "display_data"
    },
    {
     "data": {
      "text/plain": []
     },
     "execution_count": 162,
     "metadata": {},
     "output_type": "execute_result"
    }
   ],
   "source": [
    "test.ascharacter().asnumeric()"
   ]
  },
  {
   "cell_type": "code",
   "execution_count": 132,
   "metadata": {},
   "outputs": [
    {
     "name": "stdout",
     "output_type": "stream",
     "text": [
      "Rows:40262\n",
      "Cols:8\n",
      "\n",
      "\n"
     ]
    },
    {
     "data": {
      "text/html": [
       "<table>\n",
       "<thead>\n",
       "<tr><th>       </th><th>C1                </th><th>carat                 </th><th>cut               </th><th>color            </th><th>clarity           </th><th>depth                </th><th>table                </th><th>price            </th></tr>\n",
       "</thead>\n",
       "<tbody>\n",
       "<tr><td>type   </td><td>int               </td><td>real                  </td><td>int               </td><td>int              </td><td>int               </td><td>real                 </td><td>real                 </td><td>real             </td></tr>\n",
       "<tr><td>mins   </td><td>0.0               </td><td>-1.258814769418203    </td><td>0.0               </td><td>0.0              </td><td>0.0               </td><td>-7.517218649304248   </td><td>-6.052948097329158   </td><td>5.787            </td></tr>\n",
       "<tr><td>mean   </td><td>20130.5           </td><td>-2.153052847914466e-17</td><td>2.908126769658736 </td><td>3.408573841339228</td><td>3.0504694252645166</td><td>8.549561083378385e-16</td><td>4.820544142687183e-15</td><td>7.783607023992847</td></tr>\n",
       "<tr><td>maxs   </td><td>40261.0           </td><td>6.754703050727221     </td><td>4.0               </td><td>6.0              </td><td>7.0               </td><td>11.90499443294668    </td><td>6.99826629977063     </td><td>9.842            </td></tr>\n",
       "<tr><td>sigma  </td><td>11622.782605727425</td><td>1.000012418889131     </td><td>1.1156645140186776</td><td>1.703551550233851</td><td>1.646480351144318 </td><td>1.0000124188891308   </td><td>1.0000124188891308   </td><td>1.01633550725157 </td></tr>\n",
       "<tr><td>zeros  </td><td>1                 </td><td>0                     </td><td>1181              </td><td>2111             </td><td>548               </td><td>0                    </td><td>0                    </td><td>0                </td></tr>\n",
       "<tr><td>missing</td><td>0                 </td><td>0                     </td><td>0                 </td><td>0                </td><td>0                 </td><td>0                    </td><td>0                    </td><td>0                </td></tr>\n",
       "<tr><td>0      </td><td>0.0               </td><td>-1.0479327215196397   </td><td>3.0               </td><td>6.0              </td><td>1.0               </td><td>0.4568843401512886   </td><td>0.24763816333970523  </td><td>6.353            </td></tr>\n",
       "<tr><td>1      </td><td>1.0               </td><td>0.44932981856016346   </td><td>4.0               </td><td>5.0              </td><td>5.0               </td><td>0.6915621677028471   </td><td>-0.652445588184418   </td><td>9.183            </td></tr>\n",
       "<tr><td>2      </td><td>2.0               </td><td>-0.16222812034567158  </td><td>4.0               </td><td>4.0              </td><td>3.0               </td><td>0.06147410210206805  </td><td>0.6976800391017669   </td><td>7.983            </td></tr>\n",
       "<tr><td>3      </td><td>3.0               </td><td>0.5969472520891582    </td><td>2.0               </td><td>3.0              </td><td>1.0               </td><td>1.012098950541024    </td><td>-0.2024037124223564  </td><td>8.371            </td></tr>\n",
       "<tr><td>4      </td><td>4.0               </td><td>-0.9214034927805012   </td><td>3.0               </td><td>3.0              </td><td>4.0               </td><td>0.4024208706754277   </td><td>0.6976800391017669   </td><td>6.588            </td></tr>\n",
       "<tr><td>5      </td><td>5.0               </td><td>-0.5629040113529427   </td><td>4.0               </td><td>4.0              </td><td>4.0               </td><td>-0.1976855095415501  </td><td>-0.2024037124223564  </td><td>7.496            </td></tr>\n",
       "<tr><td>6      </td><td>6.0               </td><td>1.988768768219679     </td><td>3.0               </td><td>2.0              </td><td>2.0               </td><td>0.27662883665502647  </td><td>0.6976800391017669   </td><td>8.979            </td></tr>\n",
       "<tr><td>7      </td><td>7.0               </td><td>-0.9846681071500702   </td><td>4.0               </td><td>5.0              </td><td>5.0               </td><td>-1.332142167840645   </td><td>-0.652445588184418   </td><td>6.877            </td></tr>\n",
       "<tr><td>8      </td><td>8.0               </td><td>-1.0057563119399269   </td><td>2.0               </td><td>5.0              </td><td>3.0               </td><td>0.7786413270405469   </td><td>-0.652445588184418   </td><td>6.554            </td></tr>\n",
       "<tr><td>9      </td><td>9.0               </td><td>-1.1111973358892084   </td><td>4.0               </td><td>5.0              </td><td>5.0               </td><td>0.06265712804163083  </td><td>-0.2024037124223564  </td><td>6.683            </td></tr>\n",
       "</tbody>\n",
       "</table>"
      ]
     },
     "metadata": {},
     "output_type": "display_data"
    }
   ],
   "source": [
    "train.describe()"
   ]
  },
  {
   "cell_type": "code",
   "execution_count": 152,
   "metadata": {},
   "outputs": [],
   "source": [
    "x = train.columns\n",
    "y = \"price\"\n",
    "train[y] = train[y]\n",
    "x.remove(y)"
   ]
  },
  {
   "cell_type": "code",
   "execution_count": 134,
   "metadata": {},
   "outputs": [],
   "source": [
    "x.remove('C1')"
   ]
  },
  {
   "cell_type": "code",
   "execution_count": 153,
   "metadata": {},
   "outputs": [
    {
     "data": {
      "text/plain": [
       "['carat',\n",
       " 'depth',\n",
       " 'table',\n",
       " 'x0_0',\n",
       " 'x0_1',\n",
       " 'x0_2',\n",
       " 'x0_3',\n",
       " 'x0_4',\n",
       " 'x1_0',\n",
       " 'x1_1',\n",
       " 'x1_2',\n",
       " 'x1_3',\n",
       " 'x1_4',\n",
       " 'x1_5',\n",
       " 'x1_6',\n",
       " 'x2_0',\n",
       " 'x2_1',\n",
       " 'x2_2',\n",
       " 'x2_3',\n",
       " 'x2_4',\n",
       " 'x2_5',\n",
       " 'x2_6',\n",
       " 'x2_7']"
      ]
     },
     "execution_count": 153,
     "metadata": {},
     "output_type": "execute_result"
    }
   ],
   "source": [
    "x"
   ]
  },
  {
   "cell_type": "code",
   "execution_count": 154,
   "metadata": {},
   "outputs": [
    {
     "name": "stdout",
     "output_type": "stream",
     "text": [
      "AutoML progress: |\n",
      "21:48:26.525: AutoML: XGBoost is not available; skipping it.\n",
      "\n",
      "███████████████████████████████████████████████████████████████| (done) 100%\n",
      "Model Details\n",
      "=============\n",
      "H2OStackedEnsembleEstimator :  Stacked Ensemble\n",
      "Model Key:  StackedEnsemble_AllModels_1_AutoML_7_20220527_214826\n",
      "\n",
      "No model summary for this model\n",
      "\n",
      "ModelMetricsRegressionGLM: stackedensemble\n",
      "** Reported on train data. **\n",
      "\n",
      "MSE: 0.0075863651274560824\n",
      "RMSE: 0.08709974240751853\n",
      "MAE: 0.06620393650487585\n",
      "RMSLE: 0.010285569715563495\n",
      "R^2: 0.9926787824307178\n",
      "Mean Residual Deviance: 0.0075863651274560824\n",
      "Null degrees of freedom: 9911\n",
      "Residual degrees of freedom: 9898\n",
      "Null deviance: 10271.336880278512\n",
      "Residual deviance: 75.19605114334469\n",
      "AIC: -20225.426130936172\n",
      "\n",
      "ModelMetricsRegressionGLM: stackedensemble\n",
      "** Reported on cross-validation data. **\n",
      "\n",
      "MSE: 0.009543290061624233\n",
      "RMSE: 0.09768976436466736\n",
      "MAE: 0.07365324997188132\n",
      "RMSLE: 0.011509979823283863\n",
      "R^2: 0.9907607927108617\n",
      "Mean Residual Deviance: 0.009543290061624233\n",
      "Null degrees of freedom: 40261\n",
      "Residual degrees of freedom: 40248\n",
      "Null deviance: 41588.8835727752\n",
      "Residual deviance: 384.23194446111484\n",
      "AIC: -73006.87511310767\n",
      "\n",
      "Cross-Validation Metrics Summary: \n"
     ]
    },
    {
     "data": {
      "text/html": [
       "<div>\n",
       "<style scoped>\n",
       "    .dataframe tbody tr th:only-of-type {\n",
       "        vertical-align: middle;\n",
       "    }\n",
       "\n",
       "    .dataframe tbody tr th {\n",
       "        vertical-align: top;\n",
       "    }\n",
       "\n",
       "    .dataframe thead th {\n",
       "        text-align: right;\n",
       "    }\n",
       "</style>\n",
       "<table border=\"1\" class=\"dataframe\">\n",
       "  <thead>\n",
       "    <tr style=\"text-align: right;\">\n",
       "      <th></th>\n",
       "      <th></th>\n",
       "      <th>mean</th>\n",
       "      <th>sd</th>\n",
       "      <th>cv_1_valid</th>\n",
       "      <th>cv_2_valid</th>\n",
       "      <th>cv_3_valid</th>\n",
       "      <th>cv_4_valid</th>\n",
       "      <th>cv_5_valid</th>\n",
       "    </tr>\n",
       "  </thead>\n",
       "  <tbody>\n",
       "    <tr>\n",
       "      <th>0</th>\n",
       "      <td>mae</td>\n",
       "      <td>0.073651</td>\n",
       "      <td>0.000790</td>\n",
       "      <td>0.074763</td>\n",
       "      <td>0.074075</td>\n",
       "      <td>0.072700</td>\n",
       "      <td>0.073416</td>\n",
       "      <td>0.073299</td>\n",
       "    </tr>\n",
       "    <tr>\n",
       "      <th>1</th>\n",
       "      <td>mean_residual_deviance</td>\n",
       "      <td>0.009543</td>\n",
       "      <td>0.000243</td>\n",
       "      <td>0.009795</td>\n",
       "      <td>0.009581</td>\n",
       "      <td>0.009152</td>\n",
       "      <td>0.009515</td>\n",
       "      <td>0.009673</td>\n",
       "    </tr>\n",
       "    <tr>\n",
       "      <th>2</th>\n",
       "      <td>mse</td>\n",
       "      <td>0.009543</td>\n",
       "      <td>0.000243</td>\n",
       "      <td>0.009795</td>\n",
       "      <td>0.009581</td>\n",
       "      <td>0.009152</td>\n",
       "      <td>0.009515</td>\n",
       "      <td>0.009673</td>\n",
       "    </tr>\n",
       "    <tr>\n",
       "      <th>3</th>\n",
       "      <td>null_deviance</td>\n",
       "      <td>8317.776000</td>\n",
       "      <td>98.100730</td>\n",
       "      <td>8462.108000</td>\n",
       "      <td>8318.692000</td>\n",
       "      <td>8327.755000</td>\n",
       "      <td>8187.649400</td>\n",
       "      <td>8292.679000</td>\n",
       "    </tr>\n",
       "    <tr>\n",
       "      <th>4</th>\n",
       "      <td>r2</td>\n",
       "      <td>0.990760</td>\n",
       "      <td>0.000235</td>\n",
       "      <td>0.990645</td>\n",
       "      <td>0.990644</td>\n",
       "      <td>0.991172</td>\n",
       "      <td>0.990605</td>\n",
       "      <td>0.990734</td>\n",
       "    </tr>\n",
       "    <tr>\n",
       "      <th>5</th>\n",
       "      <td>residual_deviance</td>\n",
       "      <td>76.846390</td>\n",
       "      <td>2.080844</td>\n",
       "      <td>79.132330</td>\n",
       "      <td>77.827896</td>\n",
       "      <td>73.510864</td>\n",
       "      <td>76.917230</td>\n",
       "      <td>76.843630</td>\n",
       "    </tr>\n",
       "    <tr>\n",
       "      <th>6</th>\n",
       "      <td>rmse</td>\n",
       "      <td>0.097683</td>\n",
       "      <td>0.001247</td>\n",
       "      <td>0.098969</td>\n",
       "      <td>0.097883</td>\n",
       "      <td>0.095667</td>\n",
       "      <td>0.097544</td>\n",
       "      <td>0.098352</td>\n",
       "    </tr>\n",
       "    <tr>\n",
       "      <th>7</th>\n",
       "      <td>rmsle</td>\n",
       "      <td>0.011509</td>\n",
       "      <td>0.000149</td>\n",
       "      <td>0.011655</td>\n",
       "      <td>0.011519</td>\n",
       "      <td>0.011268</td>\n",
       "      <td>0.011499</td>\n",
       "      <td>0.011605</td>\n",
       "    </tr>\n",
       "  </tbody>\n",
       "</table>\n",
       "</div>"
      ],
      "text/plain": [
       "                                  mean         sd   cv_1_valid   cv_2_valid  \\\n",
       "0                     mae     0.073651   0.000790     0.074763     0.074075   \n",
       "1  mean_residual_deviance     0.009543   0.000243     0.009795     0.009581   \n",
       "2                     mse     0.009543   0.000243     0.009795     0.009581   \n",
       "3           null_deviance  8317.776000  98.100730  8462.108000  8318.692000   \n",
       "4                      r2     0.990760   0.000235     0.990645     0.990644   \n",
       "5       residual_deviance    76.846390   2.080844    79.132330    77.827896   \n",
       "6                    rmse     0.097683   0.001247     0.098969     0.097883   \n",
       "7                   rmsle     0.011509   0.000149     0.011655     0.011519   \n",
       "\n",
       "    cv_3_valid   cv_4_valid   cv_5_valid  \n",
       "0     0.072700     0.073416     0.073299  \n",
       "1     0.009152     0.009515     0.009673  \n",
       "2     0.009152     0.009515     0.009673  \n",
       "3  8327.755000  8187.649400  8292.679000  \n",
       "4     0.991172     0.990605     0.990734  \n",
       "5    73.510864    76.917230    76.843630  \n",
       "6     0.095667     0.097544     0.098352  \n",
       "7     0.011268     0.011499     0.011605  "
      ]
     },
     "metadata": {},
     "output_type": "display_data"
    },
    {
     "data": {
      "text/plain": []
     },
     "execution_count": 154,
     "metadata": {},
     "output_type": "execute_result"
    }
   ],
   "source": [
    "aml = H2OAutoML(max_models=20, max_runtime_secs=12000)\n",
    "aml.train(x=x, y=y, training_frame=train)"
   ]
  },
  {
   "cell_type": "code",
   "execution_count": 112,
   "metadata": {},
   "outputs": [
    {
     "data": {
      "text/html": [
       "<table>\n",
       "<thead>\n",
       "<tr><th>model_id                                               </th><th style=\"text-align: right;\">     rmse</th><th style=\"text-align: right;\">       mse</th><th style=\"text-align: right;\">      mae</th><th style=\"text-align: right;\">    rmsle</th><th style=\"text-align: right;\">  mean_residual_deviance</th></tr>\n",
       "</thead>\n",
       "<tbody>\n",
       "<tr><td>StackedEnsemble_AllModels_1_AutoML_5_20220527_193052   </td><td style=\"text-align: right;\">0.0969048</td><td style=\"text-align: right;\">0.00939055</td><td style=\"text-align: right;\">0.0727916</td><td style=\"text-align: right;\">0.0114125</td><td style=\"text-align: right;\">              0.00939055</td></tr>\n",
       "<tr><td>GBM_grid_1_AutoML_5_20220527_193052_model_1            </td><td style=\"text-align: right;\">0.0969794</td><td style=\"text-align: right;\">0.009405  </td><td style=\"text-align: right;\">0.0728005</td><td style=\"text-align: right;\">0.0114164</td><td style=\"text-align: right;\">              0.009405  </td></tr>\n",
       "<tr><td>StackedEnsemble_BestOfFamily_1_AutoML_5_20220527_193052</td><td style=\"text-align: right;\">0.0972308</td><td style=\"text-align: right;\">0.00945383</td><td style=\"text-align: right;\">0.0730468</td><td style=\"text-align: right;\">0.0114543</td><td style=\"text-align: right;\">              0.00945383</td></tr>\n",
       "<tr><td>GBM_3_AutoML_5_20220527_193052                         </td><td style=\"text-align: right;\">0.0979908</td><td style=\"text-align: right;\">0.0096022 </td><td style=\"text-align: right;\">0.0739965</td><td style=\"text-align: right;\">0.0115294</td><td style=\"text-align: right;\">              0.0096022 </td></tr>\n",
       "<tr><td>GBM_grid_1_AutoML_5_20220527_193052_model_4            </td><td style=\"text-align: right;\">0.0982926</td><td style=\"text-align: right;\">0.00966144</td><td style=\"text-align: right;\">0.0741897</td><td style=\"text-align: right;\">0.0115628</td><td style=\"text-align: right;\">              0.00966144</td></tr>\n",
       "<tr><td>GBM_5_AutoML_5_20220527_193052                         </td><td style=\"text-align: right;\">0.0985785</td><td style=\"text-align: right;\">0.00971772</td><td style=\"text-align: right;\">0.0748879</td><td style=\"text-align: right;\">0.0116016</td><td style=\"text-align: right;\">              0.00971772</td></tr>\n",
       "<tr><td>GBM_1_AutoML_5_20220527_193052                         </td><td style=\"text-align: right;\">0.0991185</td><td style=\"text-align: right;\">0.00982448</td><td style=\"text-align: right;\">0.074751 </td><td style=\"text-align: right;\">0.0116704</td><td style=\"text-align: right;\">              0.00982448</td></tr>\n",
       "<tr><td>GBM_grid_1_AutoML_5_20220527_193052_model_2            </td><td style=\"text-align: right;\">0.0994747</td><td style=\"text-align: right;\">0.00989521</td><td style=\"text-align: right;\">0.0754581</td><td style=\"text-align: right;\">0.0116996</td><td style=\"text-align: right;\">              0.00989521</td></tr>\n",
       "<tr><td>GBM_2_AutoML_5_20220527_193052                         </td><td style=\"text-align: right;\">0.101736 </td><td style=\"text-align: right;\">0.0103503 </td><td style=\"text-align: right;\">0.0774741</td><td style=\"text-align: right;\">0.0119487</td><td style=\"text-align: right;\">              0.0103503 </td></tr>\n",
       "<tr><td>GBM_grid_1_AutoML_5_20220527_193052_model_5            </td><td style=\"text-align: right;\">0.104365 </td><td style=\"text-align: right;\">0.010892  </td><td style=\"text-align: right;\">0.0797782</td><td style=\"text-align: right;\">0.0123345</td><td style=\"text-align: right;\">              0.010892  </td></tr>\n",
       "<tr><td>GBM_grid_1_AutoML_5_20220527_193052_model_3            </td><td style=\"text-align: right;\">0.106812 </td><td style=\"text-align: right;\">0.0114088 </td><td style=\"text-align: right;\">0.0824025</td><td style=\"text-align: right;\">0.0125622</td><td style=\"text-align: right;\">              0.0114088 </td></tr>\n",
       "<tr><td>DeepLearning_grid_1_AutoML_5_20220527_193052_model_2   </td><td style=\"text-align: right;\">0.107296 </td><td style=\"text-align: right;\">0.0115125 </td><td style=\"text-align: right;\">0.0816098</td><td style=\"text-align: right;\">0.0126462</td><td style=\"text-align: right;\">              0.0115125 </td></tr>\n",
       "<tr><td>GBM_4_AutoML_5_20220527_193052                         </td><td style=\"text-align: right;\">0.108947 </td><td style=\"text-align: right;\">0.0118695 </td><td style=\"text-align: right;\">0.0833218</td><td style=\"text-align: right;\">0.0128003</td><td style=\"text-align: right;\">              0.0118695 </td></tr>\n",
       "<tr><td>DRF_1_AutoML_5_20220527_193052                         </td><td style=\"text-align: right;\">0.109203 </td><td style=\"text-align: right;\">0.0119252 </td><td style=\"text-align: right;\">0.0821078</td><td style=\"text-align: right;\">0.0129752</td><td style=\"text-align: right;\">              0.0119252 </td></tr>\n",
       "<tr><td>XRT_1_AutoML_5_20220527_193052                         </td><td style=\"text-align: right;\">0.110845 </td><td style=\"text-align: right;\">0.0122867 </td><td style=\"text-align: right;\">0.0846065</td><td style=\"text-align: right;\">0.0130955</td><td style=\"text-align: right;\">              0.0122867 </td></tr>\n",
       "</tbody>\n",
       "</table>"
      ]
     },
     "metadata": {},
     "output_type": "display_data"
    },
    {
     "data": {
      "text/plain": []
     },
     "execution_count": 112,
     "metadata": {},
     "output_type": "execute_result"
    }
   ],
   "source": [
    "lb = aml.leaderboard\n",
    "lb.head(rows=15)"
   ]
  },
  {
   "cell_type": "code",
   "execution_count": 155,
   "metadata": {},
   "outputs": [
    {
     "name": "stdout",
     "output_type": "stream",
     "text": [
      "Model Details\n",
      "=============\n",
      "H2OStackedEnsembleEstimator :  Stacked Ensemble\n",
      "Model Key:  StackedEnsemble_AllModels_1_AutoML_7_20220527_214826\n",
      "\n",
      "No model summary for this model\n",
      "\n",
      "ModelMetricsRegressionGLM: stackedensemble\n",
      "** Reported on train data. **\n",
      "\n",
      "MSE: 0.0075863651274560824\n",
      "RMSE: 0.08709974240751853\n",
      "MAE: 0.06620393650487585\n",
      "RMSLE: 0.010285569715563495\n",
      "R^2: 0.9926787824307178\n",
      "Mean Residual Deviance: 0.0075863651274560824\n",
      "Null degrees of freedom: 9911\n",
      "Residual degrees of freedom: 9898\n",
      "Null deviance: 10271.336880278512\n",
      "Residual deviance: 75.19605114334469\n",
      "AIC: -20225.426130936172\n",
      "\n",
      "ModelMetricsRegressionGLM: stackedensemble\n",
      "** Reported on cross-validation data. **\n",
      "\n",
      "MSE: 0.009543290061624233\n",
      "RMSE: 0.09768976436466736\n",
      "MAE: 0.07365324997188132\n",
      "RMSLE: 0.011509979823283863\n",
      "R^2: 0.9907607927108617\n",
      "Mean Residual Deviance: 0.009543290061624233\n",
      "Null degrees of freedom: 40261\n",
      "Residual degrees of freedom: 40248\n",
      "Null deviance: 41588.8835727752\n",
      "Residual deviance: 384.23194446111484\n",
      "AIC: -73006.87511310767\n",
      "\n",
      "Cross-Validation Metrics Summary: \n"
     ]
    },
    {
     "data": {
      "text/html": [
       "<div>\n",
       "<style scoped>\n",
       "    .dataframe tbody tr th:only-of-type {\n",
       "        vertical-align: middle;\n",
       "    }\n",
       "\n",
       "    .dataframe tbody tr th {\n",
       "        vertical-align: top;\n",
       "    }\n",
       "\n",
       "    .dataframe thead th {\n",
       "        text-align: right;\n",
       "    }\n",
       "</style>\n",
       "<table border=\"1\" class=\"dataframe\">\n",
       "  <thead>\n",
       "    <tr style=\"text-align: right;\">\n",
       "      <th></th>\n",
       "      <th></th>\n",
       "      <th>mean</th>\n",
       "      <th>sd</th>\n",
       "      <th>cv_1_valid</th>\n",
       "      <th>cv_2_valid</th>\n",
       "      <th>cv_3_valid</th>\n",
       "      <th>cv_4_valid</th>\n",
       "      <th>cv_5_valid</th>\n",
       "    </tr>\n",
       "  </thead>\n",
       "  <tbody>\n",
       "    <tr>\n",
       "      <th>0</th>\n",
       "      <td>mae</td>\n",
       "      <td>0.073651</td>\n",
       "      <td>0.000790</td>\n",
       "      <td>0.074763</td>\n",
       "      <td>0.074075</td>\n",
       "      <td>0.072700</td>\n",
       "      <td>0.073416</td>\n",
       "      <td>0.073299</td>\n",
       "    </tr>\n",
       "    <tr>\n",
       "      <th>1</th>\n",
       "      <td>mean_residual_deviance</td>\n",
       "      <td>0.009543</td>\n",
       "      <td>0.000243</td>\n",
       "      <td>0.009795</td>\n",
       "      <td>0.009581</td>\n",
       "      <td>0.009152</td>\n",
       "      <td>0.009515</td>\n",
       "      <td>0.009673</td>\n",
       "    </tr>\n",
       "    <tr>\n",
       "      <th>2</th>\n",
       "      <td>mse</td>\n",
       "      <td>0.009543</td>\n",
       "      <td>0.000243</td>\n",
       "      <td>0.009795</td>\n",
       "      <td>0.009581</td>\n",
       "      <td>0.009152</td>\n",
       "      <td>0.009515</td>\n",
       "      <td>0.009673</td>\n",
       "    </tr>\n",
       "    <tr>\n",
       "      <th>3</th>\n",
       "      <td>null_deviance</td>\n",
       "      <td>8317.776000</td>\n",
       "      <td>98.100730</td>\n",
       "      <td>8462.108000</td>\n",
       "      <td>8318.692000</td>\n",
       "      <td>8327.755000</td>\n",
       "      <td>8187.649400</td>\n",
       "      <td>8292.679000</td>\n",
       "    </tr>\n",
       "    <tr>\n",
       "      <th>4</th>\n",
       "      <td>r2</td>\n",
       "      <td>0.990760</td>\n",
       "      <td>0.000235</td>\n",
       "      <td>0.990645</td>\n",
       "      <td>0.990644</td>\n",
       "      <td>0.991172</td>\n",
       "      <td>0.990605</td>\n",
       "      <td>0.990734</td>\n",
       "    </tr>\n",
       "    <tr>\n",
       "      <th>5</th>\n",
       "      <td>residual_deviance</td>\n",
       "      <td>76.846390</td>\n",
       "      <td>2.080844</td>\n",
       "      <td>79.132330</td>\n",
       "      <td>77.827896</td>\n",
       "      <td>73.510864</td>\n",
       "      <td>76.917230</td>\n",
       "      <td>76.843630</td>\n",
       "    </tr>\n",
       "    <tr>\n",
       "      <th>6</th>\n",
       "      <td>rmse</td>\n",
       "      <td>0.097683</td>\n",
       "      <td>0.001247</td>\n",
       "      <td>0.098969</td>\n",
       "      <td>0.097883</td>\n",
       "      <td>0.095667</td>\n",
       "      <td>0.097544</td>\n",
       "      <td>0.098352</td>\n",
       "    </tr>\n",
       "    <tr>\n",
       "      <th>7</th>\n",
       "      <td>rmsle</td>\n",
       "      <td>0.011509</td>\n",
       "      <td>0.000149</td>\n",
       "      <td>0.011655</td>\n",
       "      <td>0.011519</td>\n",
       "      <td>0.011268</td>\n",
       "      <td>0.011499</td>\n",
       "      <td>0.011605</td>\n",
       "    </tr>\n",
       "  </tbody>\n",
       "</table>\n",
       "</div>"
      ],
      "text/plain": [
       "                                  mean         sd   cv_1_valid   cv_2_valid  \\\n",
       "0                     mae     0.073651   0.000790     0.074763     0.074075   \n",
       "1  mean_residual_deviance     0.009543   0.000243     0.009795     0.009581   \n",
       "2                     mse     0.009543   0.000243     0.009795     0.009581   \n",
       "3           null_deviance  8317.776000  98.100730  8462.108000  8318.692000   \n",
       "4                      r2     0.990760   0.000235     0.990645     0.990644   \n",
       "5       residual_deviance    76.846390   2.080844    79.132330    77.827896   \n",
       "6                    rmse     0.097683   0.001247     0.098969     0.097883   \n",
       "7                   rmsle     0.011509   0.000149     0.011655     0.011519   \n",
       "\n",
       "    cv_3_valid   cv_4_valid   cv_5_valid  \n",
       "0     0.072700     0.073416     0.073299  \n",
       "1     0.009152     0.009515     0.009673  \n",
       "2     0.009152     0.009515     0.009673  \n",
       "3  8327.755000  8187.649400  8292.679000  \n",
       "4     0.991172     0.990605     0.990734  \n",
       "5    73.510864    76.917230    76.843630  \n",
       "6     0.095667     0.097544     0.098352  \n",
       "7     0.011268     0.011499     0.011605  "
      ]
     },
     "metadata": {},
     "output_type": "display_data"
    },
    {
     "data": {
      "text/plain": []
     },
     "execution_count": 155,
     "metadata": {},
     "output_type": "execute_result"
    }
   ],
   "source": [
    "aml.leader"
   ]
  },
  {
   "cell_type": "code",
   "execution_count": 44,
   "metadata": {},
   "outputs": [
    {
     "name": "stderr",
     "output_type": "stream",
     "text": [
      "c:\\Users\\mituc\\anaconda3\\envs\\py39\\lib\\site-packages\\h2o\\estimators\\stackedensemble.py:925: H2ODeprecationWarning: The usage of stacked_ensemble.metalearner()['name'] will be deprecated. Metalearner now returns the metalearner object. If you need to get the 'name' please use stacked_ensemble.metalearner().model_id\n",
      "  warnings.warn(\n"
     ]
    }
   ],
   "source": [
    "metalearner = h2o.get_model(aml.leader.metalearner()['name'])"
   ]
  },
  {
   "cell_type": "code",
   "execution_count": 37,
   "metadata": {},
   "outputs": [],
   "source": [
    "def _convert_h2oframe_to_numeric(h2o_frame, training_columns):\n",
    "    for column in training_columns:\n",
    "        h2o_frame[column] = h2o_frame[column].asnumeric()\n",
    "    return h2o_frame"
   ]
  },
  {
   "cell_type": "code",
   "execution_count": 156,
   "metadata": {},
   "outputs": [
    {
     "data": {
      "text/html": [
       "<table>\n",
       "<thead>\n",
       "<tr><th style=\"text-align: right;\">  carat</th><th style=\"text-align: right;\">   depth</th><th style=\"text-align: right;\">  table</th><th style=\"text-align: right;\">  price</th><th style=\"text-align: right;\">  x0_0</th><th style=\"text-align: right;\">  x0_1</th><th style=\"text-align: right;\">  x0_2</th><th style=\"text-align: right;\">  x0_3</th><th style=\"text-align: right;\">  x0_4</th><th style=\"text-align: right;\">  x1_0</th><th style=\"text-align: right;\">  x1_1</th><th style=\"text-align: right;\">  x1_2</th><th style=\"text-align: right;\">  x1_3</th><th style=\"text-align: right;\">  x1_4</th><th style=\"text-align: right;\">  x1_5</th><th style=\"text-align: right;\">  x1_6</th><th style=\"text-align: right;\">  x2_0</th><th style=\"text-align: right;\">  x2_1</th><th style=\"text-align: right;\">  x2_2</th><th style=\"text-align: right;\">  x2_3</th><th style=\"text-align: right;\">  x2_4</th><th style=\"text-align: right;\">  x2_5</th><th style=\"text-align: right;\">  x2_6</th><th style=\"text-align: right;\">  x2_7</th></tr>\n",
       "</thead>\n",
       "<tbody>\n",
       "<tr><td style=\"text-align: right;\">   0.3 </td><td style=\"text-align: right;\">0.623981</td><td style=\"text-align: right;\">     58</td><td style=\"text-align: right;\">  6.353</td><td style=\"text-align: right;\">     0</td><td style=\"text-align: right;\">     0</td><td style=\"text-align: right;\">     0</td><td style=\"text-align: right;\">     1</td><td style=\"text-align: right;\">     0</td><td style=\"text-align: right;\">     0</td><td style=\"text-align: right;\">     0</td><td style=\"text-align: right;\">     0</td><td style=\"text-align: right;\">     0</td><td style=\"text-align: right;\">     0</td><td style=\"text-align: right;\">     0</td><td style=\"text-align: right;\">     1</td><td style=\"text-align: right;\">     0</td><td style=\"text-align: right;\">     1</td><td style=\"text-align: right;\">     0</td><td style=\"text-align: right;\">     0</td><td style=\"text-align: right;\">     0</td><td style=\"text-align: right;\">     0</td><td style=\"text-align: right;\">     0</td><td style=\"text-align: right;\">     0</td></tr>\n",
       "<tr><td style=\"text-align: right;\">   1.01</td><td style=\"text-align: right;\">0.627329</td><td style=\"text-align: right;\">     56</td><td style=\"text-align: right;\">  9.183</td><td style=\"text-align: right;\">     0</td><td style=\"text-align: right;\">     0</td><td style=\"text-align: right;\">     0</td><td style=\"text-align: right;\">     0</td><td style=\"text-align: right;\">     1</td><td style=\"text-align: right;\">     0</td><td style=\"text-align: right;\">     0</td><td style=\"text-align: right;\">     0</td><td style=\"text-align: right;\">     0</td><td style=\"text-align: right;\">     0</td><td style=\"text-align: right;\">     1</td><td style=\"text-align: right;\">     0</td><td style=\"text-align: right;\">     0</td><td style=\"text-align: right;\">     0</td><td style=\"text-align: right;\">     0</td><td style=\"text-align: right;\">     0</td><td style=\"text-align: right;\">     0</td><td style=\"text-align: right;\">     1</td><td style=\"text-align: right;\">     0</td><td style=\"text-align: right;\">     0</td></tr>\n",
       "<tr><td style=\"text-align: right;\">   0.72</td><td style=\"text-align: right;\">0.618341</td><td style=\"text-align: right;\">     59</td><td style=\"text-align: right;\">  7.983</td><td style=\"text-align: right;\">     0</td><td style=\"text-align: right;\">     0</td><td style=\"text-align: right;\">     0</td><td style=\"text-align: right;\">     0</td><td style=\"text-align: right;\">     1</td><td style=\"text-align: right;\">     0</td><td style=\"text-align: right;\">     0</td><td style=\"text-align: right;\">     0</td><td style=\"text-align: right;\">     0</td><td style=\"text-align: right;\">     1</td><td style=\"text-align: right;\">     0</td><td style=\"text-align: right;\">     0</td><td style=\"text-align: right;\">     0</td><td style=\"text-align: right;\">     0</td><td style=\"text-align: right;\">     0</td><td style=\"text-align: right;\">     1</td><td style=\"text-align: right;\">     0</td><td style=\"text-align: right;\">     0</td><td style=\"text-align: right;\">     0</td><td style=\"text-align: right;\">     0</td></tr>\n",
       "<tr><td style=\"text-align: right;\">   1.08</td><td style=\"text-align: right;\">0.631902</td><td style=\"text-align: right;\">     57</td><td style=\"text-align: right;\">  8.371</td><td style=\"text-align: right;\">     0</td><td style=\"text-align: right;\">     0</td><td style=\"text-align: right;\">     1</td><td style=\"text-align: right;\">     0</td><td style=\"text-align: right;\">     0</td><td style=\"text-align: right;\">     0</td><td style=\"text-align: right;\">     0</td><td style=\"text-align: right;\">     0</td><td style=\"text-align: right;\">     1</td><td style=\"text-align: right;\">     0</td><td style=\"text-align: right;\">     0</td><td style=\"text-align: right;\">     0</td><td style=\"text-align: right;\">     0</td><td style=\"text-align: right;\">     1</td><td style=\"text-align: right;\">     0</td><td style=\"text-align: right;\">     0</td><td style=\"text-align: right;\">     0</td><td style=\"text-align: right;\">     0</td><td style=\"text-align: right;\">     0</td><td style=\"text-align: right;\">     0</td></tr>\n",
       "<tr><td style=\"text-align: right;\">   0.36</td><td style=\"text-align: right;\">0.623204</td><td style=\"text-align: right;\">     59</td><td style=\"text-align: right;\">  6.588</td><td style=\"text-align: right;\">     0</td><td style=\"text-align: right;\">     0</td><td style=\"text-align: right;\">     0</td><td style=\"text-align: right;\">     1</td><td style=\"text-align: right;\">     0</td><td style=\"text-align: right;\">     0</td><td style=\"text-align: right;\">     0</td><td style=\"text-align: right;\">     0</td><td style=\"text-align: right;\">     1</td><td style=\"text-align: right;\">     0</td><td style=\"text-align: right;\">     0</td><td style=\"text-align: right;\">     0</td><td style=\"text-align: right;\">     0</td><td style=\"text-align: right;\">     0</td><td style=\"text-align: right;\">     0</td><td style=\"text-align: right;\">     0</td><td style=\"text-align: right;\">     1</td><td style=\"text-align: right;\">     0</td><td style=\"text-align: right;\">     0</td><td style=\"text-align: right;\">     0</td></tr>\n",
       "<tr><td style=\"text-align: right;\">   0.53</td><td style=\"text-align: right;\">0.614644</td><td style=\"text-align: right;\">     57</td><td style=\"text-align: right;\">  7.496</td><td style=\"text-align: right;\">     0</td><td style=\"text-align: right;\">     0</td><td style=\"text-align: right;\">     0</td><td style=\"text-align: right;\">     0</td><td style=\"text-align: right;\">     1</td><td style=\"text-align: right;\">     0</td><td style=\"text-align: right;\">     0</td><td style=\"text-align: right;\">     0</td><td style=\"text-align: right;\">     0</td><td style=\"text-align: right;\">     1</td><td style=\"text-align: right;\">     0</td><td style=\"text-align: right;\">     0</td><td style=\"text-align: right;\">     0</td><td style=\"text-align: right;\">     0</td><td style=\"text-align: right;\">     0</td><td style=\"text-align: right;\">     0</td><td style=\"text-align: right;\">     1</td><td style=\"text-align: right;\">     0</td><td style=\"text-align: right;\">     0</td><td style=\"text-align: right;\">     0</td></tr>\n",
       "<tr><td style=\"text-align: right;\">   1.74</td><td style=\"text-align: right;\">0.62141 </td><td style=\"text-align: right;\">     59</td><td style=\"text-align: right;\">  8.979</td><td style=\"text-align: right;\">     0</td><td style=\"text-align: right;\">     0</td><td style=\"text-align: right;\">     0</td><td style=\"text-align: right;\">     1</td><td style=\"text-align: right;\">     0</td><td style=\"text-align: right;\">     0</td><td style=\"text-align: right;\">     0</td><td style=\"text-align: right;\">     1</td><td style=\"text-align: right;\">     0</td><td style=\"text-align: right;\">     0</td><td style=\"text-align: right;\">     0</td><td style=\"text-align: right;\">     0</td><td style=\"text-align: right;\">     0</td><td style=\"text-align: right;\">     0</td><td style=\"text-align: right;\">     1</td><td style=\"text-align: right;\">     0</td><td style=\"text-align: right;\">     0</td><td style=\"text-align: right;\">     0</td><td style=\"text-align: right;\">     0</td><td style=\"text-align: right;\">     0</td></tr>\n",
       "<tr><td style=\"text-align: right;\">   0.33</td><td style=\"text-align: right;\">0.59846 </td><td style=\"text-align: right;\">     56</td><td style=\"text-align: right;\">  6.877</td><td style=\"text-align: right;\">     0</td><td style=\"text-align: right;\">     0</td><td style=\"text-align: right;\">     0</td><td style=\"text-align: right;\">     0</td><td style=\"text-align: right;\">     1</td><td style=\"text-align: right;\">     0</td><td style=\"text-align: right;\">     0</td><td style=\"text-align: right;\">     0</td><td style=\"text-align: right;\">     0</td><td style=\"text-align: right;\">     0</td><td style=\"text-align: right;\">     1</td><td style=\"text-align: right;\">     0</td><td style=\"text-align: right;\">     0</td><td style=\"text-align: right;\">     0</td><td style=\"text-align: right;\">     0</td><td style=\"text-align: right;\">     0</td><td style=\"text-align: right;\">     0</td><td style=\"text-align: right;\">     1</td><td style=\"text-align: right;\">     0</td><td style=\"text-align: right;\">     0</td></tr>\n",
       "<tr><td style=\"text-align: right;\">   0.32</td><td style=\"text-align: right;\">0.628571</td><td style=\"text-align: right;\">     56</td><td style=\"text-align: right;\">  6.554</td><td style=\"text-align: right;\">     0</td><td style=\"text-align: right;\">     0</td><td style=\"text-align: right;\">     1</td><td style=\"text-align: right;\">     0</td><td style=\"text-align: right;\">     0</td><td style=\"text-align: right;\">     0</td><td style=\"text-align: right;\">     0</td><td style=\"text-align: right;\">     0</td><td style=\"text-align: right;\">     0</td><td style=\"text-align: right;\">     0</td><td style=\"text-align: right;\">     1</td><td style=\"text-align: right;\">     0</td><td style=\"text-align: right;\">     0</td><td style=\"text-align: right;\">     0</td><td style=\"text-align: right;\">     0</td><td style=\"text-align: right;\">     1</td><td style=\"text-align: right;\">     0</td><td style=\"text-align: right;\">     0</td><td style=\"text-align: right;\">     0</td><td style=\"text-align: right;\">     0</td></tr>\n",
       "<tr><td style=\"text-align: right;\">   0.27</td><td style=\"text-align: right;\">0.618357</td><td style=\"text-align: right;\">     57</td><td style=\"text-align: right;\">  6.683</td><td style=\"text-align: right;\">     0</td><td style=\"text-align: right;\">     0</td><td style=\"text-align: right;\">     0</td><td style=\"text-align: right;\">     0</td><td style=\"text-align: right;\">     1</td><td style=\"text-align: right;\">     0</td><td style=\"text-align: right;\">     0</td><td style=\"text-align: right;\">     0</td><td style=\"text-align: right;\">     0</td><td style=\"text-align: right;\">     0</td><td style=\"text-align: right;\">     1</td><td style=\"text-align: right;\">     0</td><td style=\"text-align: right;\">     0</td><td style=\"text-align: right;\">     0</td><td style=\"text-align: right;\">     0</td><td style=\"text-align: right;\">     0</td><td style=\"text-align: right;\">     0</td><td style=\"text-align: right;\">     1</td><td style=\"text-align: right;\">     0</td><td style=\"text-align: right;\">     0</td></tr>\n",
       "</tbody>\n",
       "</table>"
      ]
     },
     "metadata": {},
     "output_type": "display_data"
    },
    {
     "data": {
      "text/plain": []
     },
     "execution_count": 156,
     "metadata": {},
     "output_type": "execute_result"
    }
   ],
   "source": [
    "train"
   ]
  },
  {
   "cell_type": "code",
   "execution_count": 157,
   "metadata": {},
   "outputs": [
    {
     "data": {
      "text/html": [
       "<table>\n",
       "<thead>\n",
       "<tr><th style=\"text-align: right;\">  C1</th><th style=\"text-align: right;\">    carat</th><th style=\"text-align: right;\">  cut</th><th style=\"text-align: right;\">  color</th><th style=\"text-align: right;\">  clarity</th><th style=\"text-align: right;\">     depth</th><th style=\"text-align: right;\">    table</th></tr>\n",
       "</thead>\n",
       "<tbody>\n",
       "<tr><td style=\"text-align: right;\">   0</td><td style=\"text-align: right;\">-0.609375</td><td style=\"text-align: right;\">    4</td><td style=\"text-align: right;\">      1</td><td style=\"text-align: right;\">        2</td><td style=\"text-align: right;\">-0.891211 </td><td style=\"text-align: right;\"> 0.333333</td></tr>\n",
       "<tr><td style=\"text-align: right;\">   1</td><td style=\"text-align: right;\"> 0.828125</td><td style=\"text-align: right;\">    3</td><td style=\"text-align: right;\">      1</td><td style=\"text-align: right;\">        2</td><td style=\"text-align: right;\"> 0.724875 </td><td style=\"text-align: right;\"> 1       </td></tr>\n",
       "<tr><td style=\"text-align: right;\">   2</td><td style=\"text-align: right;\"> 1.48438 </td><td style=\"text-align: right;\">    3</td><td style=\"text-align: right;\">      6</td><td style=\"text-align: right;\">        2</td><td style=\"text-align: right;\"> 0.130011 </td><td style=\"text-align: right;\"> 0.666667</td></tr>\n",
       "<tr><td style=\"text-align: right;\">   3</td><td style=\"text-align: right;\"> 0.0625  </td><td style=\"text-align: right;\">    3</td><td style=\"text-align: right;\">      6</td><td style=\"text-align: right;\">        1</td><td style=\"text-align: right;\">-0.820939 </td><td style=\"text-align: right;\">-0.333333</td></tr>\n",
       "<tr><td style=\"text-align: right;\">   4</td><td style=\"text-align: right;\"> 1.23438 </td><td style=\"text-align: right;\">    0</td><td style=\"text-align: right;\">      5</td><td style=\"text-align: right;\">        1</td><td style=\"text-align: right;\"> 2.00568  </td><td style=\"text-align: right;\">-0.666667</td></tr>\n",
       "<tr><td style=\"text-align: right;\">   5</td><td style=\"text-align: right;\"> 0.171875</td><td style=\"text-align: right;\">    4</td><td style=\"text-align: right;\">      2</td><td style=\"text-align: right;\">        3</td><td style=\"text-align: right;\">-0.213814 </td><td style=\"text-align: right;\">-0.333333</td></tr>\n",
       "<tr><td style=\"text-align: right;\">   6</td><td style=\"text-align: right;\">-0.265625</td><td style=\"text-align: right;\">    4</td><td style=\"text-align: right;\">      3</td><td style=\"text-align: right;\">        1</td><td style=\"text-align: right;\">-0.0454639</td><td style=\"text-align: right;\">-1       </td></tr>\n",
       "<tr><td style=\"text-align: right;\">   7</td><td style=\"text-align: right;\">-0.40625 </td><td style=\"text-align: right;\">    1</td><td style=\"text-align: right;\">      6</td><td style=\"text-align: right;\">        3</td><td style=\"text-align: right;\"> 1.27134  </td><td style=\"text-align: right;\"> 1.33333 </td></tr>\n",
       "<tr><td style=\"text-align: right;\">   8</td><td style=\"text-align: right;\">-0.625   </td><td style=\"text-align: right;\">    2</td><td style=\"text-align: right;\">      3</td><td style=\"text-align: right;\">        2</td><td style=\"text-align: right;\"> 0.94103  </td><td style=\"text-align: right;\"> 0       </td></tr>\n",
       "<tr><td style=\"text-align: right;\">   9</td><td style=\"text-align: right;\">-0.640625</td><td style=\"text-align: right;\">    3</td><td style=\"text-align: right;\">      6</td><td style=\"text-align: right;\">        3</td><td style=\"text-align: right;\">-0.788595 </td><td style=\"text-align: right;\"> 1       </td></tr>\n",
       "</tbody>\n",
       "</table>"
      ]
     },
     "metadata": {},
     "output_type": "display_data"
    },
    {
     "data": {
      "text/plain": []
     },
     "execution_count": 157,
     "metadata": {},
     "output_type": "execute_result"
    }
   ],
   "source": [
    "test"
   ]
  },
  {
   "cell_type": "code",
   "execution_count": 163,
   "metadata": {},
   "outputs": [
    {
     "name": "stdout",
     "output_type": "stream",
     "text": [
      "stackedensemble prediction progress: |███████████████████████████████████████████| (done) 100%\n"
     ]
    }
   ],
   "source": [
    "pred = aml.predict(test)\n"
   ]
  },
  {
   "cell_type": "code",
   "execution_count": 164,
   "metadata": {},
   "outputs": [
    {
     "data": {
      "text/plain": [
       "13485"
      ]
     },
     "execution_count": 164,
     "metadata": {},
     "output_type": "execute_result"
    }
   ],
   "source": [
    "len(pred)"
   ]
  },
  {
   "cell_type": "code",
   "execution_count": 165,
   "metadata": {},
   "outputs": [
    {
     "data": {
      "text/html": [
       "<table>\n",
       "<thead>\n",
       "<tr><th style=\"text-align: right;\">  predict</th></tr>\n",
       "</thead>\n",
       "<tbody>\n",
       "<tr><td style=\"text-align: right;\">  6.10788</td></tr>\n",
       "<tr><td style=\"text-align: right;\">  8.59428</td></tr>\n",
       "<tr><td style=\"text-align: right;\">  9.46226</td></tr>\n",
       "<tr><td style=\"text-align: right;\">  7.84486</td></tr>\n",
       "<tr><td style=\"text-align: right;\">  8.98181</td></tr>\n",
       "<tr><td style=\"text-align: right;\">  8.10335</td></tr>\n",
       "<tr><td style=\"text-align: right;\">  7.00274</td></tr>\n",
       "<tr><td style=\"text-align: right;\">  6.98187</td></tr>\n",
       "<tr><td style=\"text-align: right;\">  6.35128</td></tr>\n",
       "<tr><td style=\"text-align: right;\">  6.6666 </td></tr>\n",
       "</tbody>\n",
       "</table>"
      ]
     },
     "metadata": {},
     "output_type": "display_data"
    },
    {
     "data": {
      "text/plain": []
     },
     "execution_count": 165,
     "metadata": {},
     "output_type": "execute_result"
    }
   ],
   "source": [
    "pred"
   ]
  },
  {
   "cell_type": "code",
   "execution_count": 166,
   "metadata": {},
   "outputs": [],
   "source": [
    "oi = pred.as_data_frame()"
   ]
  },
  {
   "cell_type": "code",
   "execution_count": 167,
   "metadata": {},
   "outputs": [],
   "source": [
    "oi.reset_index(inplace=True)"
   ]
  },
  {
   "cell_type": "code",
   "execution_count": 168,
   "metadata": {},
   "outputs": [],
   "source": [
    "oi.rename(columns={'index': 'id'}, inplace=True)\n",
    "oi.rename(columns={'predict': 'price'}, inplace=True)"
   ]
  },
  {
   "cell_type": "code",
   "execution_count": 169,
   "metadata": {},
   "outputs": [
    {
     "data": {
      "text/html": [
       "<div>\n",
       "<style scoped>\n",
       "    .dataframe tbody tr th:only-of-type {\n",
       "        vertical-align: middle;\n",
       "    }\n",
       "\n",
       "    .dataframe tbody tr th {\n",
       "        vertical-align: top;\n",
       "    }\n",
       "\n",
       "    .dataframe thead th {\n",
       "        text-align: right;\n",
       "    }\n",
       "</style>\n",
       "<table border=\"1\" class=\"dataframe\">\n",
       "  <thead>\n",
       "    <tr style=\"text-align: right;\">\n",
       "      <th></th>\n",
       "      <th>id</th>\n",
       "      <th>price</th>\n",
       "    </tr>\n",
       "  </thead>\n",
       "  <tbody>\n",
       "    <tr>\n",
       "      <th>0</th>\n",
       "      <td>0</td>\n",
       "      <td>6.107877</td>\n",
       "    </tr>\n",
       "    <tr>\n",
       "      <th>1</th>\n",
       "      <td>1</td>\n",
       "      <td>8.594284</td>\n",
       "    </tr>\n",
       "    <tr>\n",
       "      <th>2</th>\n",
       "      <td>2</td>\n",
       "      <td>9.462261</td>\n",
       "    </tr>\n",
       "    <tr>\n",
       "      <th>3</th>\n",
       "      <td>3</td>\n",
       "      <td>7.844857</td>\n",
       "    </tr>\n",
       "    <tr>\n",
       "      <th>4</th>\n",
       "      <td>4</td>\n",
       "      <td>8.981813</td>\n",
       "    </tr>\n",
       "    <tr>\n",
       "      <th>...</th>\n",
       "      <td>...</td>\n",
       "      <td>...</td>\n",
       "    </tr>\n",
       "    <tr>\n",
       "      <th>13480</th>\n",
       "      <td>13480</td>\n",
       "      <td>8.553094</td>\n",
       "    </tr>\n",
       "    <tr>\n",
       "      <th>13481</th>\n",
       "      <td>13481</td>\n",
       "      <td>8.384413</td>\n",
       "    </tr>\n",
       "    <tr>\n",
       "      <th>13482</th>\n",
       "      <td>13482</td>\n",
       "      <td>6.446743</td>\n",
       "    </tr>\n",
       "    <tr>\n",
       "      <th>13483</th>\n",
       "      <td>13483</td>\n",
       "      <td>8.681198</td>\n",
       "    </tr>\n",
       "    <tr>\n",
       "      <th>13484</th>\n",
       "      <td>13484</td>\n",
       "      <td>8.010274</td>\n",
       "    </tr>\n",
       "  </tbody>\n",
       "</table>\n",
       "<p>13485 rows × 2 columns</p>\n",
       "</div>"
      ],
      "text/plain": [
       "          id     price\n",
       "0          0  6.107877\n",
       "1          1  8.594284\n",
       "2          2  9.462261\n",
       "3          3  7.844857\n",
       "4          4  8.981813\n",
       "...      ...       ...\n",
       "13480  13480  8.553094\n",
       "13481  13481  8.384413\n",
       "13482  13482  6.446743\n",
       "13483  13483  8.681198\n",
       "13484  13484  8.010274\n",
       "\n",
       "[13485 rows x 2 columns]"
      ]
     },
     "execution_count": 169,
     "metadata": {},
     "output_type": "execute_result"
    }
   ],
   "source": [
    "oi"
   ]
  },
  {
   "cell_type": "code",
   "execution_count": 170,
   "metadata": {},
   "outputs": [],
   "source": [
    "oi.to_csv(\"data/H2O.csv\", index=False)"
   ]
  }
 ],
 "metadata": {
  "interpreter": {
   "hash": "a12e2a4323b2f78fc80bc9af7b1a03df0527f4eb569d45f0586a1ac4c8c01671"
  },
  "kernelspec": {
   "display_name": "Python 3.9.7 ('py39')",
   "language": "python",
   "name": "python3"
  },
  "language_info": {
   "codemirror_mode": {
    "name": "ipython",
    "version": 3
   },
   "file_extension": ".py",
   "mimetype": "text/x-python",
   "name": "python",
   "nbconvert_exporter": "python",
   "pygments_lexer": "ipython3",
   "version": "3.9.7"
  },
  "orig_nbformat": 4
 },
 "nbformat": 4,
 "nbformat_minor": 2
}
