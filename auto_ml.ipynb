{
 "cells": [
  {
   "cell_type": "code",
   "execution_count": 1,
   "metadata": {},
   "outputs": [],
   "source": [
    "import pandas as pd\n",
    "import autosklearn.regression"
   ]
  },
  {
   "cell_type": "code",
   "execution_count": 2,
   "metadata": {},
   "outputs": [],
   "source": [
    "df = pd.read_csv('data/encodings/train_enc_5.csv')"
   ]
  },
  {
   "cell_type": "code",
   "execution_count": 50,
   "metadata": {},
   "outputs": [],
   "source": [
    "test = pd.read_csv('data/test.csv') "
   ]
  },
  {
   "cell_type": "code",
   "execution_count": 47,
   "metadata": {},
   "outputs": [],
   "source": [
    "sub = pd.read_csv('data/encodings/test_enc.csv')"
   ]
  },
  {
   "cell_type": "code",
   "execution_count": 24,
   "metadata": {},
   "outputs": [],
   "source": [
    "df.drop('Unnamed: 0', axis=1, inplace=True)"
   ]
  },
  {
   "cell_type": "code",
   "execution_count": 3,
   "metadata": {},
   "outputs": [
    {
     "data": {
      "text/html": [
       "<div>\n",
       "<style scoped>\n",
       "    .dataframe tbody tr th:only-of-type {\n",
       "        vertical-align: middle;\n",
       "    }\n",
       "\n",
       "    .dataframe tbody tr th {\n",
       "        vertical-align: top;\n",
       "    }\n",
       "\n",
       "    .dataframe thead th {\n",
       "        text-align: right;\n",
       "    }\n",
       "</style>\n",
       "<table border=\"1\" class=\"dataframe\">\n",
       "  <thead>\n",
       "    <tr style=\"text-align: right;\">\n",
       "      <th></th>\n",
       "      <th>carat</th>\n",
       "      <th>cut</th>\n",
       "      <th>color</th>\n",
       "      <th>clarity</th>\n",
       "      <th>depth</th>\n",
       "      <th>table</th>\n",
       "      <th>price</th>\n",
       "      <th>x0_0</th>\n",
       "      <th>x0_1</th>\n",
       "      <th>x0_2</th>\n",
       "      <th>...</th>\n",
       "      <th>x1_5</th>\n",
       "      <th>x1_6</th>\n",
       "      <th>x2_0</th>\n",
       "      <th>x2_1</th>\n",
       "      <th>x2_2</th>\n",
       "      <th>x2_3</th>\n",
       "      <th>x2_4</th>\n",
       "      <th>x2_5</th>\n",
       "      <th>x2_6</th>\n",
       "      <th>x2_7</th>\n",
       "    </tr>\n",
       "  </thead>\n",
       "  <tbody>\n",
       "    <tr>\n",
       "      <th>0</th>\n",
       "      <td>0.30</td>\n",
       "      <td>3</td>\n",
       "      <td>6</td>\n",
       "      <td>1</td>\n",
       "      <td>0.623981</td>\n",
       "      <td>58.0</td>\n",
       "      <td>6.353</td>\n",
       "      <td>0</td>\n",
       "      <td>0</td>\n",
       "      <td>0</td>\n",
       "      <td>...</td>\n",
       "      <td>0</td>\n",
       "      <td>1</td>\n",
       "      <td>0</td>\n",
       "      <td>1</td>\n",
       "      <td>0</td>\n",
       "      <td>0</td>\n",
       "      <td>0</td>\n",
       "      <td>0</td>\n",
       "      <td>0</td>\n",
       "      <td>0</td>\n",
       "    </tr>\n",
       "    <tr>\n",
       "      <th>1</th>\n",
       "      <td>1.01</td>\n",
       "      <td>4</td>\n",
       "      <td>5</td>\n",
       "      <td>5</td>\n",
       "      <td>0.627329</td>\n",
       "      <td>56.0</td>\n",
       "      <td>9.183</td>\n",
       "      <td>0</td>\n",
       "      <td>0</td>\n",
       "      <td>0</td>\n",
       "      <td>...</td>\n",
       "      <td>1</td>\n",
       "      <td>0</td>\n",
       "      <td>0</td>\n",
       "      <td>0</td>\n",
       "      <td>0</td>\n",
       "      <td>0</td>\n",
       "      <td>0</td>\n",
       "      <td>1</td>\n",
       "      <td>0</td>\n",
       "      <td>0</td>\n",
       "    </tr>\n",
       "    <tr>\n",
       "      <th>2</th>\n",
       "      <td>0.72</td>\n",
       "      <td>4</td>\n",
       "      <td>4</td>\n",
       "      <td>3</td>\n",
       "      <td>0.618341</td>\n",
       "      <td>59.0</td>\n",
       "      <td>7.983</td>\n",
       "      <td>0</td>\n",
       "      <td>0</td>\n",
       "      <td>0</td>\n",
       "      <td>...</td>\n",
       "      <td>0</td>\n",
       "      <td>0</td>\n",
       "      <td>0</td>\n",
       "      <td>0</td>\n",
       "      <td>0</td>\n",
       "      <td>1</td>\n",
       "      <td>0</td>\n",
       "      <td>0</td>\n",
       "      <td>0</td>\n",
       "      <td>0</td>\n",
       "    </tr>\n",
       "    <tr>\n",
       "      <th>3</th>\n",
       "      <td>1.08</td>\n",
       "      <td>2</td>\n",
       "      <td>3</td>\n",
       "      <td>1</td>\n",
       "      <td>0.631902</td>\n",
       "      <td>57.0</td>\n",
       "      <td>8.371</td>\n",
       "      <td>0</td>\n",
       "      <td>0</td>\n",
       "      <td>1</td>\n",
       "      <td>...</td>\n",
       "      <td>0</td>\n",
       "      <td>0</td>\n",
       "      <td>0</td>\n",
       "      <td>1</td>\n",
       "      <td>0</td>\n",
       "      <td>0</td>\n",
       "      <td>0</td>\n",
       "      <td>0</td>\n",
       "      <td>0</td>\n",
       "      <td>0</td>\n",
       "    </tr>\n",
       "    <tr>\n",
       "      <th>4</th>\n",
       "      <td>0.36</td>\n",
       "      <td>3</td>\n",
       "      <td>3</td>\n",
       "      <td>4</td>\n",
       "      <td>0.623204</td>\n",
       "      <td>59.0</td>\n",
       "      <td>6.588</td>\n",
       "      <td>0</td>\n",
       "      <td>0</td>\n",
       "      <td>0</td>\n",
       "      <td>...</td>\n",
       "      <td>0</td>\n",
       "      <td>0</td>\n",
       "      <td>0</td>\n",
       "      <td>0</td>\n",
       "      <td>0</td>\n",
       "      <td>0</td>\n",
       "      <td>1</td>\n",
       "      <td>0</td>\n",
       "      <td>0</td>\n",
       "      <td>0</td>\n",
       "    </tr>\n",
       "  </tbody>\n",
       "</table>\n",
       "<p>5 rows × 27 columns</p>\n",
       "</div>"
      ],
      "text/plain": [
       "   carat  cut  color  clarity     depth  table  price  x0_0  x0_1  x0_2  ...  \\\n",
       "0   0.30    3      6        1  0.623981   58.0  6.353     0     0     0  ...   \n",
       "1   1.01    4      5        5  0.627329   56.0  9.183     0     0     0  ...   \n",
       "2   0.72    4      4        3  0.618341   59.0  7.983     0     0     0  ...   \n",
       "3   1.08    2      3        1  0.631902   57.0  8.371     0     0     1  ...   \n",
       "4   0.36    3      3        4  0.623204   59.0  6.588     0     0     0  ...   \n",
       "\n",
       "   x1_5  x1_6  x2_0  x2_1  x2_2  x2_3  x2_4  x2_5  x2_6  x2_7  \n",
       "0     0     1     0     1     0     0     0     0     0     0  \n",
       "1     1     0     0     0     0     0     0     1     0     0  \n",
       "2     0     0     0     0     0     1     0     0     0     0  \n",
       "3     0     0     0     1     0     0     0     0     0     0  \n",
       "4     0     0     0     0     0     0     1     0     0     0  \n",
       "\n",
       "[5 rows x 27 columns]"
      ]
     },
     "execution_count": 3,
     "metadata": {},
     "output_type": "execute_result"
    }
   ],
   "source": [
    "df.head(5)"
   ]
  },
  {
   "cell_type": "code",
   "execution_count": 4,
   "metadata": {},
   "outputs": [],
   "source": [
    "X=df.drop(['price'],axis=1)\n",
    "y=df['price']"
   ]
  },
  {
   "cell_type": "code",
   "execution_count": 5,
   "metadata": {},
   "outputs": [],
   "source": [
    "automl = autosklearn.regression.AutoSklearnRegressor(metric=autosklearn.metrics.root_mean_squared_error,\n",
    "                                                         resampling_strategy='cv')"
   ]
  },
  {
   "cell_type": "code",
   "execution_count": 6,
   "metadata": {},
   "outputs": [
    {
     "name": "stderr",
     "output_type": "stream",
     "text": [
      "/home/mituc/.local/lib/python3.8/site-packages/autosklearn/metalearning/metalearning/meta_base.py:68: FutureWarning: The frame.append method is deprecated and will be removed from pandas in a future version. Use pandas.concat instead.\n",
      "  self.metafeatures = self.metafeatures.append(metafeatures)\n",
      "/home/mituc/.local/lib/python3.8/site-packages/autosklearn/metalearning/metalearning/meta_base.py:72: FutureWarning: The frame.append method is deprecated and will be removed from pandas in a future version. Use pandas.concat instead.\n",
      "  self.algorithm_runs[metric].append(runs)\n"
     ]
    },
    {
     "data": {
      "text/plain": [
       "AutoSklearnRegressor(metric=root_mean_squared_error, per_run_time_limit=360,\n",
       "                     resampling_strategy='cv')"
      ]
     },
     "execution_count": 6,
     "metadata": {},
     "output_type": "execute_result"
    }
   ],
   "source": [
    "automl.fit(X, y)"
   ]
  },
  {
   "cell_type": "code",
   "execution_count": 7,
   "metadata": {},
   "outputs": [
    {
     "name": "stdout",
     "output_type": "stream",
     "text": [
      "          rank  ensemble_weight               type      cost    duration\n",
      "model_id                                                                \n",
      "3            1             0.94  gradient_boosting  0.098126   26.062600\n",
      "2            2             0.04      random_forest  0.109609  239.912904\n",
      "4            3             0.02     ard_regression  0.147432   12.547966\n"
     ]
    }
   ],
   "source": [
    "print(automl.leaderboard())"
   ]
  },
  {
   "cell_type": "code",
   "execution_count": 8,
   "metadata": {},
   "outputs": [
    {
     "name": "stdout",
     "output_type": "stream",
     "text": [
      "{3: {'model_id': 3, 'rank': 1, 'cost': 0.09812564028999302, 'ensemble_weight': 0.94, 'voting_model': VotingRegressor(estimators=None), 'estimators': [{'data_preprocessor': <autosklearn.pipeline.components.data_preprocessing.DataPreprocessorChoice object at 0x7f4bc18d0dc0>, 'feature_preprocessor': <autosklearn.pipeline.components.feature_preprocessing.FeaturePreprocessorChoice object at 0x7f4bc18eca00>, 'regressor': <autosklearn.pipeline.components.regression.RegressorChoice object at 0x7f4bc1832280>, 'sklearn_regressor': HistGradientBoostingRegressor(l2_regularization=2.208787572338781e-05,\n",
      "                              learning_rate=0.036087332404571744, max_iter=512,\n",
      "                              max_leaf_nodes=64, min_samples_leaf=3,\n",
      "                              n_iter_no_change=18, random_state=1,\n",
      "                              validation_fraction=None, warm_start=True)}, {'data_preprocessor': <autosklearn.pipeline.components.data_preprocessing.DataPreprocessorChoice object at 0x7f4ba42ca7c0>, 'feature_preprocessor': <autosklearn.pipeline.components.feature_preprocessing.FeaturePreprocessorChoice object at 0x7f4b9de2a520>, 'regressor': <autosklearn.pipeline.components.regression.RegressorChoice object at 0x7f4b9de2a5e0>, 'sklearn_regressor': HistGradientBoostingRegressor(l2_regularization=2.208787572338781e-05,\n",
      "                              learning_rate=0.036087332404571744, max_iter=512,\n",
      "                              max_leaf_nodes=64, min_samples_leaf=3,\n",
      "                              n_iter_no_change=18, random_state=1,\n",
      "                              validation_fraction=None, warm_start=True)}, {'data_preprocessor': <autosklearn.pipeline.components.data_preprocessing.DataPreprocessorChoice object at 0x7f4b9dc8cc70>, 'feature_preprocessor': <autosklearn.pipeline.components.feature_preprocessing.FeaturePreprocessorChoice object at 0x7f4b9dc5d9a0>, 'regressor': <autosklearn.pipeline.components.regression.RegressorChoice object at 0x7f4b9dc5da60>, 'sklearn_regressor': HistGradientBoostingRegressor(l2_regularization=2.208787572338781e-05,\n",
      "                              learning_rate=0.036087332404571744, max_iter=512,\n",
      "                              max_leaf_nodes=64, min_samples_leaf=3,\n",
      "                              n_iter_no_change=18, random_state=1,\n",
      "                              validation_fraction=None, warm_start=True)}, {'data_preprocessor': <autosklearn.pipeline.components.data_preprocessing.DataPreprocessorChoice object at 0x7f4b9da77370>, 'feature_preprocessor': <autosklearn.pipeline.components.feature_preprocessing.FeaturePreprocessorChoice object at 0x7f4b9da30070>, 'regressor': <autosklearn.pipeline.components.regression.RegressorChoice object at 0x7f4b9da30160>, 'sklearn_regressor': HistGradientBoostingRegressor(l2_regularization=2.208787572338781e-05,\n",
      "                              learning_rate=0.036087332404571744, max_iter=512,\n",
      "                              max_leaf_nodes=64, min_samples_leaf=3,\n",
      "                              n_iter_no_change=18, random_state=1,\n",
      "                              validation_fraction=None, warm_start=True)}, {'data_preprocessor': <autosklearn.pipeline.components.data_preprocessing.DataPreprocessorChoice object at 0x7f4b9d90fa30>, 'feature_preprocessor': <autosklearn.pipeline.components.feature_preprocessing.FeaturePreprocessorChoice object at 0x7f4b9d8de760>, 'regressor': <autosklearn.pipeline.components.regression.RegressorChoice object at 0x7f4b9d8de820>, 'sklearn_regressor': HistGradientBoostingRegressor(l2_regularization=2.208787572338781e-05,\n",
      "                              learning_rate=0.036087332404571744, max_iter=512,\n",
      "                              max_leaf_nodes=64, min_samples_leaf=3,\n",
      "                              n_iter_no_change=18, random_state=1,\n",
      "                              validation_fraction=None, warm_start=True)}]}, 2: {'model_id': 2, 'rank': 2, 'cost': 0.1096087131506578, 'ensemble_weight': 0.04, 'voting_model': VotingRegressor(estimators=None), 'estimators': [{'data_preprocessor': <autosklearn.pipeline.components.data_preprocessing.DataPreprocessorChoice object at 0x7f4bc1ba5880>, 'feature_preprocessor': <autosklearn.pipeline.components.feature_preprocessing.FeaturePreprocessorChoice object at 0x7f4ba46c8550>, 'regressor': <autosklearn.pipeline.components.regression.RegressorChoice object at 0x7f4ba46c8820>, 'sklearn_regressor': RandomForestRegressor(max_features=1.0, n_estimators=512, n_jobs=1,\n",
      "                      random_state=1, warm_start=True)}, {'data_preprocessor': <autosklearn.pipeline.components.data_preprocessing.DataPreprocessorChoice object at 0x7f4b9dd82ac0>, 'feature_preprocessor': <autosklearn.pipeline.components.feature_preprocessing.FeaturePreprocessorChoice object at 0x7f4b9dd1ff10>, 'regressor': <autosklearn.pipeline.components.regression.RegressorChoice object at 0x7f4b9dd2e040>, 'sklearn_regressor': RandomForestRegressor(max_features=1.0, n_estimators=512, n_jobs=1,\n",
      "                      random_state=1, warm_start=True)}, {'data_preprocessor': <autosklearn.pipeline.components.data_preprocessing.DataPreprocessorChoice object at 0x7f4b9d78b1c0>, 'feature_preprocessor': <autosklearn.pipeline.components.feature_preprocessing.FeaturePreprocessorChoice object at 0x7f4b9d6feac0>, 'regressor': <autosklearn.pipeline.components.regression.RegressorChoice object at 0x7f4b9d6febb0>, 'sklearn_regressor': RandomForestRegressor(max_features=1.0, n_estimators=512, n_jobs=1,\n",
      "                      random_state=1, warm_start=True)}, {'data_preprocessor': <autosklearn.pipeline.components.data_preprocessing.DataPreprocessorChoice object at 0x7f4b9d3e6ee0>, 'feature_preprocessor': <autosklearn.pipeline.components.feature_preprocessing.FeaturePreprocessorChoice object at 0x7f4b9d337c70>, 'regressor': <autosklearn.pipeline.components.regression.RegressorChoice object at 0x7f4b9d337d60>, 'sklearn_regressor': RandomForestRegressor(max_features=1.0, n_estimators=512, n_jobs=1,\n",
      "                      random_state=1, warm_start=True)}, {'data_preprocessor': <autosklearn.pipeline.components.data_preprocessing.DataPreprocessorChoice object at 0x7f4b9d1780d0>, 'feature_preprocessor': <autosklearn.pipeline.components.feature_preprocessing.FeaturePreprocessorChoice object at 0x7f4b9d18ae20>, 'regressor': <autosklearn.pipeline.components.regression.RegressorChoice object at 0x7f4b9d18af10>, 'sklearn_regressor': RandomForestRegressor(max_features=1.0, n_estimators=512, n_jobs=1,\n",
      "                      random_state=1, warm_start=True)}]}, 4: {'model_id': 4, 'rank': 3, 'cost': 0.14743156416272343, 'ensemble_weight': 0.02, 'voting_model': VotingRegressor(estimators=None), 'estimators': [{'data_preprocessor': <autosklearn.pipeline.components.data_preprocessing.DataPreprocessorChoice object at 0x7f4bc18e2be0>, 'feature_preprocessor': <autosklearn.pipeline.components.feature_preprocessing.FeaturePreprocessorChoice object at 0x7f4b9dd31a30>, 'regressor': <autosklearn.pipeline.components.regression.RegressorChoice object at 0x7f4b9dd31d90>, 'sklearn_regressor': ARDRegression(alpha_1=4.7044575285722365e-05, alpha_2=0.000629863807127318,\n",
      "              copy_X=False, lambda_1=7.584067704707025e-10,\n",
      "              lambda_2=3.923255608410879e-08,\n",
      "              threshold_lambda=4052.403778957396, tol=0.009359388994186051)}, {'data_preprocessor': <autosklearn.pipeline.components.data_preprocessing.DataPreprocessorChoice object at 0x7f4b9da45880>, 'feature_preprocessor': <autosklearn.pipeline.components.feature_preprocessing.FeaturePreprocessorChoice object at 0x7f4ba437e160>, 'regressor': <autosklearn.pipeline.components.regression.RegressorChoice object at 0x7f4ba437e2e0>, 'sklearn_regressor': ARDRegression(alpha_1=4.7044575285722365e-05, alpha_2=0.000629863807127318,\n",
      "              copy_X=False, lambda_1=7.584067704707025e-10,\n",
      "              lambda_2=3.923255608410879e-08,\n",
      "              threshold_lambda=4052.403778957396, tol=0.009359388994186051)}, {'data_preprocessor': <autosklearn.pipeline.components.data_preprocessing.DataPreprocessorChoice object at 0x7f4b9ddbcd90>, 'feature_preprocessor': <autosklearn.pipeline.components.feature_preprocessing.FeaturePreprocessorChoice object at 0x7f4b9da67910>, 'regressor': <autosklearn.pipeline.components.regression.RegressorChoice object at 0x7f4b9da67c70>, 'sklearn_regressor': ARDRegression(alpha_1=4.7044575285722365e-05, alpha_2=0.000629863807127318,\n",
      "              copy_X=False, lambda_1=7.584067704707025e-10,\n",
      "              lambda_2=3.923255608410879e-08,\n",
      "              threshold_lambda=4052.403778957396, tol=0.009359388994186051)}, {'data_preprocessor': <autosklearn.pipeline.components.data_preprocessing.DataPreprocessorChoice object at 0x7f4b9d880880>, 'feature_preprocessor': <autosklearn.pipeline.components.feature_preprocessing.FeaturePreprocessorChoice object at 0x7f4b9d8391f0>, 'regressor': <autosklearn.pipeline.components.regression.RegressorChoice object at 0x7f4b9d839550>, 'sklearn_regressor': ARDRegression(alpha_1=4.7044575285722365e-05, alpha_2=0.000629863807127318,\n",
      "              copy_X=False, lambda_1=7.584067704707025e-10,\n",
      "              lambda_2=3.923255608410879e-08,\n",
      "              threshold_lambda=4052.403778957396, tol=0.009359388994186051)}, {'data_preprocessor': <autosklearn.pipeline.components.data_preprocessing.DataPreprocessorChoice object at 0x7f4b9da304f0>, 'feature_preprocessor': <autosklearn.pipeline.components.feature_preprocessing.FeaturePreprocessorChoice object at 0x7f4b9d99ec70>, 'regressor': <autosklearn.pipeline.components.regression.RegressorChoice object at 0x7f4b9d99ee50>, 'sklearn_regressor': ARDRegression(alpha_1=4.7044575285722365e-05, alpha_2=0.000629863807127318,\n",
      "              copy_X=False, lambda_1=7.584067704707025e-10,\n",
      "              lambda_2=3.923255608410879e-08,\n",
      "              threshold_lambda=4052.403778957396, tol=0.009359388994186051)}]}}\n"
     ]
    }
   ],
   "source": [
    "print(automl.show_models())"
   ]
  },
  {
   "cell_type": "code",
   "execution_count": 48,
   "metadata": {},
   "outputs": [],
   "source": [
    "predictions = automl.predict(sub)"
   ]
  },
  {
   "cell_type": "code",
   "execution_count": 49,
   "metadata": {},
   "outputs": [
    {
     "data": {
      "text/plain": [
       "array([6.12420888, 8.57683237, 9.47458994, ..., 6.45572568, 8.67942876,\n",
       "       8.00865722])"
      ]
     },
     "execution_count": 49,
     "metadata": {},
     "output_type": "execute_result"
    }
   ],
   "source": [
    "predictions"
   ]
  },
  {
   "cell_type": "code",
   "execution_count": 51,
   "metadata": {},
   "outputs": [],
   "source": [
    "test['price'] = predictions"
   ]
  },
  {
   "cell_type": "code",
   "execution_count": 53,
   "metadata": {},
   "outputs": [
    {
     "data": {
      "text/plain": [
       "Index(['id', 'carat', 'cut', 'color', 'clarity', 'depth', 'table', 'x', 'y',\n",
       "       'z', 'price'],\n",
       "      dtype='object')"
      ]
     },
     "execution_count": 53,
     "metadata": {},
     "output_type": "execute_result"
    }
   ],
   "source": [
    "test.columns"
   ]
  },
  {
   "cell_type": "code",
   "execution_count": 54,
   "metadata": {},
   "outputs": [],
   "source": [
    "test.drop(['carat', 'cut', 'color', 'clarity', 'depth', 'table', 'x', 'y',\n",
    "       'z'], axis=1, inplace=True)"
   ]
  },
  {
   "cell_type": "code",
   "execution_count": 55,
   "metadata": {},
   "outputs": [
    {
     "data": {
      "text/html": [
       "<div>\n",
       "<style scoped>\n",
       "    .dataframe tbody tr th:only-of-type {\n",
       "        vertical-align: middle;\n",
       "    }\n",
       "\n",
       "    .dataframe tbody tr th {\n",
       "        vertical-align: top;\n",
       "    }\n",
       "\n",
       "    .dataframe thead th {\n",
       "        text-align: right;\n",
       "    }\n",
       "</style>\n",
       "<table border=\"1\" class=\"dataframe\">\n",
       "  <thead>\n",
       "    <tr style=\"text-align: right;\">\n",
       "      <th></th>\n",
       "      <th>id</th>\n",
       "      <th>price</th>\n",
       "    </tr>\n",
       "  </thead>\n",
       "  <tbody>\n",
       "    <tr>\n",
       "      <th>0</th>\n",
       "      <td>0</td>\n",
       "      <td>6.124209</td>\n",
       "    </tr>\n",
       "    <tr>\n",
       "      <th>1</th>\n",
       "      <td>1</td>\n",
       "      <td>8.576832</td>\n",
       "    </tr>\n",
       "    <tr>\n",
       "      <th>2</th>\n",
       "      <td>2</td>\n",
       "      <td>9.474590</td>\n",
       "    </tr>\n",
       "    <tr>\n",
       "      <th>3</th>\n",
       "      <td>3</td>\n",
       "      <td>7.856383</td>\n",
       "    </tr>\n",
       "    <tr>\n",
       "      <th>4</th>\n",
       "      <td>4</td>\n",
       "      <td>8.983397</td>\n",
       "    </tr>\n",
       "    <tr>\n",
       "      <th>...</th>\n",
       "      <td>...</td>\n",
       "      <td>...</td>\n",
       "    </tr>\n",
       "    <tr>\n",
       "      <th>13480</th>\n",
       "      <td>13480</td>\n",
       "      <td>8.544309</td>\n",
       "    </tr>\n",
       "    <tr>\n",
       "      <th>13481</th>\n",
       "      <td>13481</td>\n",
       "      <td>8.373067</td>\n",
       "    </tr>\n",
       "    <tr>\n",
       "      <th>13482</th>\n",
       "      <td>13482</td>\n",
       "      <td>6.455726</td>\n",
       "    </tr>\n",
       "    <tr>\n",
       "      <th>13483</th>\n",
       "      <td>13483</td>\n",
       "      <td>8.679429</td>\n",
       "    </tr>\n",
       "    <tr>\n",
       "      <th>13484</th>\n",
       "      <td>13484</td>\n",
       "      <td>8.008657</td>\n",
       "    </tr>\n",
       "  </tbody>\n",
       "</table>\n",
       "<p>13485 rows × 2 columns</p>\n",
       "</div>"
      ],
      "text/plain": [
       "          id     price\n",
       "0          0  6.124209\n",
       "1          1  8.576832\n",
       "2          2  9.474590\n",
       "3          3  7.856383\n",
       "4          4  8.983397\n",
       "...      ...       ...\n",
       "13480  13480  8.544309\n",
       "13481  13481  8.373067\n",
       "13482  13482  6.455726\n",
       "13483  13483  8.679429\n",
       "13484  13484  8.008657\n",
       "\n",
       "[13485 rows x 2 columns]"
      ]
     },
     "execution_count": 55,
     "metadata": {},
     "output_type": "execute_result"
    }
   ],
   "source": [
    "test"
   ]
  },
  {
   "cell_type": "code",
   "execution_count": 56,
   "metadata": {},
   "outputs": [],
   "source": [
    "test.to_csv('data/gradient_boost_4.csv',index=False)"
   ]
  }
 ],
 "metadata": {
  "interpreter": {
   "hash": "a12e2a4323b2f78fc80bc9af7b1a03df0527f4eb569d45f0586a1ac4c8c01671"
  },
  "kernelspec": {
   "display_name": "Python 3 (ipykernel)",
   "language": "python",
   "name": "python3"
  },
  "language_info": {
   "codemirror_mode": {
    "name": "ipython",
    "version": 3
   },
   "file_extension": ".py",
   "mimetype": "text/x-python",
   "name": "python",
   "nbconvert_exporter": "python",
   "pygments_lexer": "ipython3",
   "version": "3.8.10"
  }
 },
 "nbformat": 4,
 "nbformat_minor": 2
}
